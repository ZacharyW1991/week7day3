{
 "cells": [
  {
   "cell_type": "markdown",
   "id": "b49428f3",
   "metadata": {},
   "source": [
    "# Index for Intro JS Day 2"
   ]
  },
  {
   "cell_type": "markdown",
   "id": "743e6670",
   "metadata": {},
   "source": [
    "[Dates](#date)<br>\n",
    "[Switch Case](#switch)<br>\n",
    "[Objects](#object)<br>\n",
    "&emsp;[Deleting Keys](#del)<br>\n",
    "&emsp;[Exercise #1](#ice1)<br>\n",
    "&emsp;[Destructuring](#destruct)<br>\n",
    "&emsp;[Spread Operator (...)](#spread)<br>\n",
    "&emsp;[Rest Operator (...)](#rest)<br>\n",
    "&emsp;[Exercise #2](#ice2)<br>\n",
    "&emsp;[Optional Chaining (.?)](#chain)<br>\n",
    "&emsp;[Null Coalescing Operator (??)](#nco)<br>\n",
    "&emsp;[Object Equality](#objeq)<br>\n",
    "&emsp;[Testing Empty Objects](#emptyobj)<br>\n",
    "[For Loops with Objects](#loop)<br>\n",
    "&emsp;[Traditional Loop](#tradloop)<br>\n",
    "&emsp;[Exercise #3](#ice3)<br>\n",
    "&emsp;[for in Loop](#forin)<br>\n",
    "&emsp;[Exercise #4](#ice4)<br>\n",
    "[this keyword](#this)<br>\n",
    "[Checking Object/Array Type](#typecheck)<br>\n",
    "[ES5 Object Prototypes](#proto)<br>\n",
    "&emsp;[New Keyword](#new)<br>\n",
    "[Closures](#closure)<br>\n",
    "[Class keyword](#class)<br>\n",
    "&emsp;[Inheritance](#inherit)<br>\n",
    "&emsp;[Exercise #5](#ice5)<br>\n",
    "[JS and the Call Stack](#stack)<br>\n",
    "[Call Back Functions](#callback)<br>\n",
    "[Promises](#promise)<br>\n",
    "&emsp;[Async Await](#async)<br>\n",
    "&emsp;[Exercise #6](#ice6)<br>\n",
    "[Homework](#hw)<br>\n",
    "\n",
    "\n",
    "\n",
    "\n",
    "\n",
    "\n",
    "\n",
    "\n",
    "\n",
    "\n",
    "\n",
    "\n",
    "\n",
    "\n",
    "\n",
    "\n",
    "\n",
    "\n",
    "\n"
   ]
  },
  {
   "cell_type": "markdown",
   "id": "30beb35a",
   "metadata": {},
   "source": [
    "<a id=\"date\"></a>\n",
    "## Date Class"
   ]
  },
  {
   "cell_type": "markdown",
   "id": "42fe8af1",
   "metadata": {},
   "source": [
    "The Date Class in JS allows us to work with dates and retrieve the current time and date.\n",
    "\n",
    "Days of the week are represented as numbers, 0 being Sunday and 1 is for Monday and so on until you get to  6 for Saturday\n",
    "\n",
    "Dates are formatted using the Internation standard ISO 8601 [Year]-[Month]-[Day]T[Hours]:[Minutes]:[Seconds].[Milliseconds][Time Zone Modifier]\n",
    "\n",
    "Z is the modifier for UTC time"
   ]
  },
  {
   "cell_type": "code",
   "execution_count": 2,
   "id": "785f7c33",
   "metadata": {},
   "outputs": [
    {
     "name": "stdout",
     "output_type": "stream",
     "text": [
      "2023-10-31T18:45:56.636Z\n"
     ]
    }
   ],
   "source": [
    "let today=new Date();\n",
    "console.log(today)"
   ]
  },
  {
   "cell_type": "code",
   "execution_count": 2,
   "id": "5c102749",
   "metadata": {},
   "outputs": [
    {
     "data": {
      "text/plain": [
       "2"
      ]
     },
     "execution_count": 2,
     "metadata": {},
     "output_type": "execute_result"
    }
   ],
   "source": [
    "today.getDay()"
   ]
  },
  {
   "cell_type": "code",
   "execution_count": 3,
   "id": "6951bbbf",
   "metadata": {},
   "outputs": [
    {
     "data": {
      "text/plain": [
       "'Tue Oct 31 2023 14:35:59 GMT-0400 (Eastern Daylight Time)'"
      ]
     },
     "execution_count": 3,
     "metadata": {},
     "output_type": "execute_result"
    }
   ],
   "source": [
    "today.toString()"
   ]
  },
  {
   "cell_type": "code",
   "execution_count": null,
   "id": "04f80c52",
   "metadata": {},
   "outputs": [],
   "source": []
  },
  {
   "cell_type": "markdown",
   "id": "3a94b0b8",
   "metadata": {},
   "source": [
    "Like The Days Months will also start at 0.  So Janurary is month 0 and December is month 11"
   ]
  },
  {
   "cell_type": "code",
   "execution_count": 4,
   "id": "d4cc8146",
   "metadata": {
    "scrolled": true
   },
   "outputs": [
    {
     "data": {
      "text/plain": [
       "9"
      ]
     },
     "execution_count": 4,
     "metadata": {},
     "output_type": "execute_result"
    }
   ],
   "source": [
    "// Shows the numeric month of the year ()\n",
    "today.getMonth()"
   ]
  },
  {
   "cell_type": "code",
   "execution_count": 7,
   "id": "3e3fd381",
   "metadata": {},
   "outputs": [
    {
     "ename": "ReferenceError",
     "evalue": "Cannot access 'fourthOfJuly' before initialization",
     "output_type": "error",
     "traceback": [
      "evalmachine.<anonymous>:1",
      "fourthOfJuly= new Date('2023-07-04 13:00:00');",
      "            ^",
      "",
      "ReferenceError: Cannot access 'fourthOfJuly' before initialization",
      "    at evalmachine.<anonymous>:1:13",
      "    at Script.runInThisContext (node:vm:129:12)",
      "    at Object.runInThisContext (node:vm:307:38)",
      "    at run ([eval]:1020:15)",
      "    at onRunRequest ([eval]:864:18)",
      "    at onMessage ([eval]:828:13)",
      "    at process.emit (node:events:513:28)",
      "    at emit (node:internal/child_process:937:14)",
      "    at process.processTicksAndRejections (node:internal/process/task_queues:83:21)"
     ]
    }
   ],
   "source": [
    "fourthOfJuly= new Date('2023-07-04 13:00:00');\n",
    "console.log(fourthOfJuly)"
   ]
  },
  {
   "cell_type": "code",
   "execution_count": 9,
   "id": "60abe713",
   "metadata": {},
   "outputs": [
    {
     "data": {
      "text/plain": [
       "31"
      ]
     },
     "execution_count": 9,
     "metadata": {},
     "output_type": "execute_result"
    }
   ],
   "source": [
    "today.getDate()// Shows the numeric day of the month"
   ]
  },
  {
   "cell_type": "code",
   "execution_count": 10,
   "id": "5948944f",
   "metadata": {},
   "outputs": [
    {
     "data": {
      "text/plain": [
       "2023"
      ]
     },
     "execution_count": 10,
     "metadata": {},
     "output_type": "execute_result"
    }
   ],
   "source": [
    "today.getFullYear()// Shows the numeric year of the date"
   ]
  },
  {
   "cell_type": "code",
   "execution_count": 11,
   "id": "575adfea",
   "metadata": {},
   "outputs": [
    {
     "data": {
      "text/plain": [
       "14"
      ]
     },
     "execution_count": 11,
     "metadata": {},
     "output_type": "execute_result"
    }
   ],
   "source": [
    "today.getHours()// Shows the numeric hour of the day"
   ]
  },
  {
   "cell_type": "markdown",
   "id": "eae7a275",
   "metadata": {},
   "source": [
    "### Unix Time"
   ]
  },
  {
   "cell_type": "markdown",
   "id": "172aa929",
   "metadata": {},
   "source": [
    "In computing, we often want to represent time as an integer to make it easier to parse and use across many systems.  To do this, we use Unix Time.  Unix Time represents time as the number of seconds since January 1st, 1970, at 00:00:00 UTC.\n",
    "\n",
    "Some Date Methods give us Unix Time\n",
    "\n",
    "<strong>Note:</strong>  Similar to the issue that hit with Y2K, Unix Time also faces this problem in 2038 (Also known as the Year 2038 problem).  Because Unix time is stored as a signed 32-bit integer, we will run out of space to store dates past 2038.  BUT DON'T WORRY.  Most modern systems use an unsigned 64-bit integer to store the time, allowing Unix Time to run for 292 billion years."
   ]
  },
  {
   "cell_type": "code",
   "execution_count": 12,
   "id": "005b2aff",
   "metadata": {},
   "outputs": [
    {
     "data": {
      "text/plain": [
       "1698777359440"
      ]
     },
     "execution_count": 12,
     "metadata": {},
     "output_type": "execute_result"
    }
   ],
   "source": [
    "today.getTime()"
   ]
  },
  {
   "cell_type": "code",
   "execution_count": 19,
   "id": "54657ce0",
   "metadata": {
    "scrolled": true
   },
   "outputs": [
    {
     "ename": "SyntaxError",
     "evalue": "Identifier 'start' has already been declared",
     "output_type": "error",
     "traceback": [
      "evalmachine.<anonymous>:1",
      "let start= new Date('1970-01-01')",
      "^",
      "",
      "SyntaxError: Identifier 'start' has already been declared",
      "    at Script.runInThisContext (node:vm:129:12)",
      "    at Object.runInThisContext (node:vm:307:38)",
      "    at run ([eval]:1020:15)",
      "    at onRunRequest ([eval]:864:18)",
      "    at onMessage ([eval]:828:13)",
      "    at process.emit (node:events:513:28)",
      "    at emit (node:internal/child_process:937:14)",
      "    at process.processTicksAndRejections (node:internal/process/task_queues:83:21)"
     ]
    }
   ],
   "source": [
    "let start= new Date('1970-01-01')"
   ]
  },
  {
   "cell_type": "code",
   "execution_count": 20,
   "id": "33875204",
   "metadata": {},
   "outputs": [
    {
     "data": {
      "text/plain": [
       "0"
      ]
     },
     "execution_count": 20,
     "metadata": {},
     "output_type": "execute_result"
    }
   ],
   "source": [
    "start.getTime()"
   ]
  },
  {
   "cell_type": "code",
   "execution_count": 1,
   "id": "70b3c89e",
   "metadata": {},
   "outputs": [
    {
     "ename": "ReferenceError",
     "evalue": "today is not defined",
     "output_type": "error",
     "traceback": [
      "evalmachine.<anonymous>:1",
      "today.toString()",
      "^",
      "",
      "ReferenceError: today is not defined",
      "    at evalmachine.<anonymous>:1:1",
      "    at Script.runInThisContext (node:vm:129:12)",
      "    at Object.runInThisContext (node:vm:307:38)",
      "    at run ([eval]:1020:15)",
      "    at onRunRequest ([eval]:864:18)",
      "    at onMessage ([eval]:828:13)",
      "    at process.emit (node:events:513:28)",
      "    at emit (node:internal/child_process:937:14)",
      "    at process.processTicksAndRejections (node:internal/process/task_queues:83:21)"
     ]
    }
   ],
   "source": [
    "today.toString()"
   ]
  },
  {
   "cell_type": "code",
   "execution_count": null,
   "id": "64cfaeb9",
   "metadata": {},
   "outputs": [],
   "source": []
  },
  {
   "cell_type": "markdown",
   "id": "b09826fd",
   "metadata": {},
   "source": [
    "#### Convert to ISO Time"
   ]
  },
  {
   "cell_type": "code",
   "execution_count": 3,
   "id": "014168e7",
   "metadata": {
    "scrolled": true
   },
   "outputs": [
    {
     "data": {
      "text/plain": [
       "'2023-10-31T18:45:56.636Z'"
      ]
     },
     "execution_count": 3,
     "metadata": {},
     "output_type": "execute_result"
    }
   ],
   "source": [
    "today.toISOString()"
   ]
  },
  {
   "cell_type": "markdown",
   "id": "d8d2fe02",
   "metadata": {},
   "source": [
    "<a id=\"switch\"></a>\n",
    "## Switch Case Statement"
   ]
  },
  {
   "cell_type": "markdown",
   "id": "a0230ea3",
   "metadata": {},
   "source": [
    "The Switch Case Statement allows us to replace long if/else chains with more readable code. It provides the additional benefit of allowing fall-through cases.\n",
    "\n",
    "However, it will only check for strict equality(===), so we cannot use greater than or less than in a switch.  Also, \"1\" and 1 will not evaluate as the same case because it implements strict equality.\n",
    "\n",
    "Syntax:\n",
    "```\n",
    "switch(variable_to_compare_to){\n",
    "    case [Value to test equality on]:\n",
    "        // do stuff\n",
    "        //optional break/return\n",
    "    default:\n",
    "        // basically the else statement, what to do if none of the cases match\n",
    "        //do stuff\n",
    "}\n",
    "```"
   ]
  },
  {
   "cell_type": "markdown",
   "id": "ffcf80c0",
   "metadata": {},
   "source": [
    "<strong>Note: </strong> In this example we are comparing day (integer of the day from the Date function) to the number 0-6 and executing a console.log for every different day.  Also note, we are breaking after every case to prevent fall-through."
   ]
  },
  {
   "cell_type": "code",
   "execution_count": 4,
   "id": "cdd9f0d9",
   "metadata": {},
   "outputs": [],
   "source": [
    "let day;"
   ]
  },
  {
   "cell_type": "code",
   "execution_count": 5,
   "id": "8360eca2",
   "metadata": {},
   "outputs": [
    {
     "name": "stdout",
     "output_type": "stream",
     "text": [
      "You must be what the Beatles were on thinking there are 8+ days a week\n"
     ]
    }
   ],
   "source": [
    "switch(day){\n",
    "    case 0:\n",
    "        console.log(\"It is Sunday, time to rest\");\n",
    "        break;\n",
    "    case 1:\n",
    "        console.log(\"Write code... it's Monday Madness\");\n",
    "        break;\n",
    "    case 2:\n",
    "        console.log(\"Testing Tuesday so test some code\");\n",
    "        break;\n",
    "    case 3:\n",
    "        console.log(\"Testing more code because it's HUMP DAY!\");\n",
    "        break;\n",
    "    case 4:\n",
    "        console.log(\"Write a feature for our app on Thursday\");\n",
    "        break;\n",
    "    case 5:\n",
    "        console.log(\"Test Feature for Feature Friday\");\n",
    "        break;\n",
    "    case 6:\n",
    "        console.log(\"Sleep all day, party all night!\");\n",
    "        break;\n",
    "    default:\n",
    "        console.log(\"You must be what the Beatles were on thinking there are 8+ days a week\")\n",
    "}\n"
   ]
  },
  {
   "cell_type": "markdown",
   "id": "3847fbf4",
   "metadata": {},
   "source": [
    "This time we will run the switch on a String of the Day"
   ]
  },
  {
   "cell_type": "code",
   "execution_count": null,
   "id": "90ac7994",
   "metadata": {},
   "outputs": [],
   "source": [
    "let dayOfWeek;"
   ]
  },
  {
   "cell_type": "code",
   "execution_count": 7,
   "id": "1fcafcb6",
   "metadata": {},
   "outputs": [
    {
     "name": "stdout",
     "output_type": "stream",
     "text": [
      "Write a feature for our app on Thursday\n"
     ]
    }
   ],
   "source": [
    "dayOfWeek='Thu'\n",
    "\n",
    "switch(dayOfWeek){\n",
    "    case 'Sun':\n",
    "        console.log('Go to church');\n",
    "        break;\n",
    "    case 'Mon':\n",
    "        console.log(\"Write code... it's Monday Madness!\");\n",
    "        break;\n",
    "    case 'Tue':\n",
    "        console.log('Testing Tuesday so go test some code');\n",
    "        break;\n",
    "    case 'Wed':\n",
    "        console.log('Testing more code because it is HUMMP DAY!!');\n",
    "        break;\n",
    "    case 'Thu':\n",
    "        console.log('Write a feature for our app on Thursday');\n",
    "        break;\n",
    "    case 'Fri':\n",
    "        console.log('Test Feature for Feature Friday!');\n",
    "        break;\n",
    "    case 'Sat':\n",
    "        console.log('Sleep all day!');\n",
    "        break;\n",
    "    default:\n",
    "        console.log('You must be whatever the Beatles were on thinking there is an eighth day of the week')\n",
    "}"
   ]
  },
  {
   "cell_type": "code",
   "execution_count": 8,
   "id": "e3e9d355",
   "metadata": {},
   "outputs": [],
   "source": []
  },
  {
   "cell_type": "code",
   "execution_count": 9,
   "id": "7dfc9a6f",
   "metadata": {},
   "outputs": [
    {
     "name": "stdout",
     "output_type": "stream",
     "text": [
      "Championship Game Tickets Included\n",
      "Playoff Tickets Included\n",
      "Parking Pass to Every Game\n",
      "Tickets to Every Home Game\n"
     ]
    }
   ],
   "source": []
  },
  {
   "cell_type": "markdown",
   "id": "8292710a",
   "metadata": {},
   "source": [
    "### Fall Through Conditions"
   ]
  },
  {
   "cell_type": "markdown",
   "id": "ca7b3965",
   "metadata": {},
   "source": [
    "In the previous examples, we used a break statement in every case (default excluded because there is no fall-through conditions for default).\n",
    "\n",
    "If we do not include the break, the condition will fall-through to the next case and execute that code as well."
   ]
  },
  {
   "cell_type": "code",
   "execution_count": null,
   "id": "df6b66b0",
   "metadata": {},
   "outputs": [],
   "source": [
    "let seasonTicketPackage;"
   ]
  },
  {
   "cell_type": "code",
   "execution_count": null,
   "id": "b092e271",
   "metadata": {},
   "outputs": [],
   "source": [
    "seasonTicketPackage='Double Platinum';\n",
    "\n",
    "switch (seasonTicketPackage){\n",
    "    case 'Double Platinum':\n",
    "        console.log('Championship Game Tickets Included')\n",
    "    case 'Platinum':\n",
    "        console.log('Playoff Tickets Included')\n",
    "    case 'Gold':\n",
    "        console.log('Parking Pass to Every Game')\n",
    "    case 'Silver':\n",
    "        console.log('Tickets to Every Home Game')\n",
    "}"
   ]
  },
  {
   "cell_type": "markdown",
   "id": "b9c1c6d4",
   "metadata": {},
   "source": [
    "<a id=\"object\"></a>\n",
    "\n",
    "## Object Type"
   ]
  },
  {
   "cell_type": "markdown",
   "id": "88a9aac2",
   "metadata": {},
   "source": [
    "A JavaScript Object is similar to a Python Dictionary.\n",
    "They both store key-value pairs and support dynamically adding keys and removing keys."
   ]
  },
  {
   "cell_type": "markdown",
   "id": "629a1e01",
   "metadata": {},
   "source": [
    "### Instantiating"
   ]
  },
  {
   "cell_type": "markdown",
   "id": "6e4d559a",
   "metadata": {},
   "source": [
    "Keys in JS don't need to surround the keys with quotes, however you can."
   ]
  },
  {
   "cell_type": "code",
   "execution_count": 10,
   "id": "6997e32f",
   "metadata": {},
   "outputs": [
    {
     "name": "stdout",
     "output_type": "stream",
     "text": [
      "{ name: 'Janet', age: 56, city: 'Louisville' }\n"
     ]
    }
   ],
   "source": [
    "let person1={\n",
    "    'name':'Janet',\n",
    "    'age':56,\n",
    "    'city':'Louisville'\n",
    "}\n",
    "\n",
    "console.log(person1)"
   ]
  },
  {
   "cell_type": "code",
   "execution_count": 11,
   "id": "c0131ff8",
   "metadata": {},
   "outputs": [
    {
     "name": "stdout",
     "output_type": "stream",
     "text": [
      "{ name: 'Maury', age: 45, city: 'San Diego' }\n"
     ]
    }
   ],
   "source": [
    "let person2={\n",
    "    name: 'Maury',\n",
    "    age: 45,\n",
    "    city: 'San Diego'\n",
    "}\n",
    "\n",
    "console.log(person2)"
   ]
  },
  {
   "cell_type": "markdown",
   "id": "beae2553",
   "metadata": {},
   "source": [
    "### console.table"
   ]
  },
  {
   "cell_type": "markdown",
   "id": "473cc913",
   "metadata": {},
   "source": [
    "Sometimes reading the properties of an object is difficult using console.log, so we can use console.table to see an easier to read result"
   ]
  },
  {
   "cell_type": "code",
   "execution_count": 12,
   "id": "e572d372",
   "metadata": {},
   "outputs": [
    {
     "name": "stdout",
     "output_type": "stream",
     "text": [
      "┌─────────┬──────────────┐\n",
      "│ (index) │    Values    │\n",
      "├─────────┼──────────────┤\n",
      "│  name   │   'Janet'    │\n",
      "│   age   │      56      │\n",
      "│  city   │ 'Louisville' │\n",
      "└─────────┴──────────────┘\n"
     ]
    }
   ],
   "source": [
    "console.table(person1)"
   ]
  },
  {
   "cell_type": "code",
   "execution_count": 13,
   "id": "f15ea04f",
   "metadata": {},
   "outputs": [
    {
     "name": "stdout",
     "output_type": "stream",
     "text": [
      "┌─────────┬─────────────┐\n",
      "│ (index) │   Values    │\n",
      "├─────────┼─────────────┤\n",
      "│  name   │   'Maury'   │\n",
      "│   age   │     45      │\n",
      "│  city   │ 'San Diego' │\n",
      "└─────────┴─────────────┘\n"
     ]
    }
   ],
   "source": [
    "console.table(person2)"
   ]
  },
  {
   "cell_type": "markdown",
   "id": "43bd5107",
   "metadata": {},
   "source": [
    "### Accessing"
   ]
  },
  {
   "cell_type": "markdown",
   "id": "91029344",
   "metadata": {},
   "source": [
    "JS Allows us to use bracket notation (like python) or dot notation (like python classes) to access our object properties"
   ]
  },
  {
   "cell_type": "code",
   "execution_count": 15,
   "id": "e331c695",
   "metadata": {},
   "outputs": [
    {
     "name": "stdout",
     "output_type": "stream",
     "text": [
      "56\n"
     ]
    }
   ],
   "source": [
    "//bracket notation\n",
    "console.log(person1['age'])"
   ]
  },
  {
   "cell_type": "code",
   "execution_count": 16,
   "id": "a6227f40",
   "metadata": {
    "scrolled": true
   },
   "outputs": [
    {
     "name": "stdout",
     "output_type": "stream",
     "text": [
      "45\n"
     ]
    }
   ],
   "source": [
    "//dot notation\n",
    "console.log(person2.age)"
   ]
  },
  {
   "cell_type": "markdown",
   "id": "5b6237da",
   "metadata": {},
   "source": [
    "<strong>Note: </strong>Using a key name stored in a variable requires us to use bracket notation."
   ]
  },
  {
   "cell_type": "code",
   "execution_count": 17,
   "id": "5771849c",
   "metadata": {
    "scrolled": true
   },
   "outputs": [
    {
     "ename": "ReferenceError",
     "evalue": "city is not defined",
     "output_type": "error",
     "traceback": [
      "evalmachine.<anonymous>:1",
      "console.log(person1[city])",
      "                    ^",
      "",
      "ReferenceError: city is not defined",
      "    at evalmachine.<anonymous>:1:21",
      "    at Script.runInThisContext (node:vm:129:12)",
      "    at Object.runInThisContext (node:vm:307:38)",
      "    at run ([eval]:1020:15)",
      "    at onRunRequest ([eval]:864:18)",
      "    at onMessage ([eval]:828:13)",
      "    at process.emit (node:events:513:28)",
      "    at emit (node:internal/child_process:937:14)",
      "    at process.processTicksAndRejections (node:internal/process/task_queues:83:21)"
     ]
    }
   ],
   "source": [
    "console.log(person1[city])"
   ]
  },
  {
   "cell_type": "code",
   "execution_count": 18,
   "id": "5b313d96",
   "metadata": {},
   "outputs": [
    {
     "name": "stdout",
     "output_type": "stream",
     "text": [
      "Louisville\n"
     ]
    }
   ],
   "source": [
    "console.log(person1['city'])"
   ]
  },
  {
   "cell_type": "code",
   "execution_count": 19,
   "id": "03f1ec96",
   "metadata": {},
   "outputs": [],
   "source": [
    "let namekey='name'"
   ]
  },
  {
   "cell_type": "code",
   "execution_count": 20,
   "id": "173fbc82",
   "metadata": {},
   "outputs": [
    {
     "name": "stdout",
     "output_type": "stream",
     "text": [
      "Maury\n"
     ]
    }
   ],
   "source": [
    "console.log(person2[namekey])"
   ]
  },
  {
   "cell_type": "code",
   "execution_count": 21,
   "id": "15a0fb06",
   "metadata": {},
   "outputs": [
    {
     "name": "stdout",
     "output_type": "stream",
     "text": [
      "undefined\n"
     ]
    }
   ],
   "source": [
    "//Looks for a key of testKey doesn't find one so return undefinde\n",
    "console.log(person1.namekey)"
   ]
  },
  {
   "cell_type": "markdown",
   "id": "6fcf009a",
   "metadata": {},
   "source": [
    "In JS, you can easily add keys to an object just by referencing the dictionary, keying in your new key and setting it to a value"
   ]
  },
  {
   "cell_type": "code",
   "execution_count": null,
   "id": "559cc83f",
   "metadata": {
    "scrolled": true
   },
   "outputs": [],
   "source": [
    "//To add new properties, obj.newKey=value or obj['newkey']=value"
   ]
  },
  {
   "cell_type": "code",
   "execution_count": 26,
   "id": "2edddad9",
   "metadata": {},
   "outputs": [
    {
     "name": "stdout",
     "output_type": "stream",
     "text": [
      "┌─────────────┬──────────────┐\n",
      "│   (index)   │    Values    │\n",
      "├─────────────┼──────────────┤\n",
      "│    name     │   'Janet'    │\n",
      "│     age     │      56      │\n",
      "│    city     │ 'Louisville' │\n",
      "│ isGoodCoder │    false     │\n",
      "└─────────────┴──────────────┘\n",
      "Sending Janet to Coding Temple.\n",
      "┌─────────────┬──────────────┐\n",
      "│   (index)   │    Values    │\n",
      "├─────────────┼──────────────┤\n",
      "│    name     │   'Janet'    │\n",
      "│     age     │      56      │\n",
      "│    city     │ 'Louisville' │\n",
      "│ isGoodCoder │     true     │\n",
      "└─────────────┴──────────────┘\n"
     ]
    }
   ],
   "source": [
    "person1.isGoodCoder=false;\n",
    "console.table(person1);\n",
    "console.log(`Sending ${person1.name} to Coding Temple.`)\n",
    "person1.isGoodCoder=true\n",
    "console.table(person1)\n"
   ]
  },
  {
   "cell_type": "markdown",
   "id": "d93a01c6",
   "metadata": {},
   "source": [
    "<a id=\"delkey\"></a>\n",
    "### Deleting keys"
   ]
  },
  {
   "cell_type": "code",
   "execution_count": 27,
   "id": "edb0d9ae",
   "metadata": {
    "scrolled": true
   },
   "outputs": [
    {
     "name": "stdout",
     "output_type": "stream",
     "text": [
      "┌─────────────┬──────────────┐\n",
      "│   (index)   │    Values    │\n",
      "├─────────────┼──────────────┤\n",
      "│    name     │   'Janet'    │\n",
      "│     age     │      56      │\n",
      "│    city     │ 'Louisville' │\n",
      "│ isGoodCoder │     true     │\n",
      "└─────────────┴──────────────┘\n",
      "┌─────────────┬──────────────┐\n",
      "│   (index)   │    Values    │\n",
      "├─────────────┼──────────────┤\n",
      "│    name     │   'Janet'    │\n",
      "│    city     │ 'Louisville' │\n",
      "│ isGoodCoder │     true     │\n",
      "└─────────────┴──────────────┘\n"
     ]
    }
   ],
   "source": [
    "// we use the delete keyword\n",
    "// delete object['property'] OR delete object.property\n",
    "console.table(person1)\n",
    "delete person1.age\n",
    "console.table(person1)"
   ]
  },
  {
   "cell_type": "code",
   "execution_count": 28,
   "id": "70581cfb",
   "metadata": {},
   "outputs": [
    {
     "name": "stdout",
     "output_type": "stream",
     "text": [
      "┌─────────┬─────────────┐\n",
      "│ (index) │   Values    │\n",
      "├─────────┼─────────────┤\n",
      "│  name   │   'Maury'   │\n",
      "│   age   │     45      │\n",
      "│  city   │ 'San Diego' │\n",
      "└─────────┴─────────────┘\n",
      "┌─────────┬─────────────┐\n",
      "│ (index) │   Values    │\n",
      "├─────────┼─────────────┤\n",
      "│  name   │   'Maury'   │\n",
      "│  city   │ 'San Diego' │\n",
      "└─────────┴─────────────┘\n"
     ]
    }
   ],
   "source": [
    "console.table(person2)\n",
    "delete person2['age']\n",
    "console.table(person2)"
   ]
  },
  {
   "cell_type": "code",
   "execution_count": 29,
   "id": "6410eeca",
   "metadata": {},
   "outputs": [],
   "source": [
    "let someBigObj={\n",
    "    'a':123,\n",
    "    'b':'abc',\n",
    "    'c':[1, 2, 3],\n",
    "    'd':{\n",
    "        a:'hello'\n",
    "    }\n",
    "}"
   ]
  },
  {
   "cell_type": "code",
   "execution_count": 32,
   "id": "d5c711ac",
   "metadata": {},
   "outputs": [
    {
     "name": "stdout",
     "output_type": "stream",
     "text": [
      "hello\n"
     ]
    }
   ],
   "source": [
    "console.log(someBigObj.d.a)"
   ]
  },
  {
   "cell_type": "markdown",
   "id": "674594c6",
   "metadata": {},
   "source": [
    "<a id=\"ice1\"></a>\n",
    "\n",
    "### In Class Exercise #1"
   ]
  },
  {
   "cell_type": "code",
   "execution_count": 33,
   "id": "cc5c2062",
   "metadata": {},
   "outputs": [],
   "source": [
    "let person3 = {\n",
    "    name: \"Max\",\n",
    "    age:31,\n",
    "    progLanguages:['JavaScript','Python','C++', 'Java'],\n",
    "    favColor: \"Blue\",\n",
    "    teams:[\n",
    "        {\n",
    "            baseball: 'Chicago White Sox',\n",
    "            football: 'Chicago Bears',\n",
    "            hockey: 'Chicago Blackhawks',\n",
    "            basketball:['Chicago Bulls','Chicago Sky'],\n",
    "            soccer:['Chicago Fire', 'Naperville Yellowjacks']\n",
    "        },\n",
    "        {\n",
    "            baseball:'Toronto Bluejays',\n",
    "            football: 'LA Rams',\n",
    "            basketball: 'Milwalkee Bucks',\n",
    "            soccer: ['Manchester United','Liverpool']\n",
    "        }\n",
    "    ]\n",
    "}"
   ]
  },
  {
   "cell_type": "markdown",
   "id": "769a63cd",
   "metadata": {},
   "source": [
    "Using the above object print out the following values in the cell underneath the heading."
   ]
  },
  {
   "cell_type": "markdown",
   "id": "cabe15cc",
   "metadata": {},
   "source": [
    "##### a) \"Blue\""
   ]
  },
  {
   "cell_type": "code",
   "execution_count": 34,
   "id": "def3c151",
   "metadata": {},
   "outputs": [
    {
     "name": "stdout",
     "output_type": "stream",
     "text": [
      "Blue\n"
     ]
    }
   ],
   "source": [
    "console.log(person3.favColor)"
   ]
  },
  {
   "cell_type": "markdown",
   "id": "566376de",
   "metadata": {},
   "source": [
    "##### b) \"C++\""
   ]
  },
  {
   "cell_type": "code",
   "execution_count": 37,
   "id": "b8c88a0c",
   "metadata": {},
   "outputs": [
    {
     "name": "stdout",
     "output_type": "stream",
     "text": [
      "C++\n"
     ]
    }
   ],
   "source": [
    "console.log(person3.progLanguages[2])"
   ]
  },
  {
   "cell_type": "markdown",
   "id": "e893f1fa",
   "metadata": {},
   "source": [
    "##### c) \"LA Rams\""
   ]
  },
  {
   "cell_type": "code",
   "execution_count": 40,
   "id": "ff4babbd",
   "metadata": {},
   "outputs": [
    {
     "name": "stdout",
     "output_type": "stream",
     "text": [
      "LA Rams\n"
     ]
    }
   ],
   "source": [
    "console.log(person3.teams[1].football)"
   ]
  },
  {
   "cell_type": "markdown",
   "id": "f8b65dfe",
   "metadata": {},
   "source": [
    "##### d) \"Chicago Fire\""
   ]
  },
  {
   "cell_type": "code",
   "execution_count": 41,
   "id": "b0864e27",
   "metadata": {},
   "outputs": [
    {
     "name": "stdout",
     "output_type": "stream",
     "text": [
      "Chicago Fire\n"
     ]
    }
   ],
   "source": [
    "console.log(person3.teams[0].soccer[0])"
   ]
  },
  {
   "cell_type": "markdown",
   "id": "ea1e9486",
   "metadata": {},
   "source": [
    "##### e) \"Liverpool\""
   ]
  },
  {
   "cell_type": "code",
   "execution_count": 42,
   "id": "de7bd75d",
   "metadata": {},
   "outputs": [
    {
     "name": "stdout",
     "output_type": "stream",
     "text": [
      "Liverpool\n"
     ]
    }
   ],
   "source": [
    "console.log(person3.teams[1].soccer[1])"
   ]
  },
  {
   "cell_type": "markdown",
   "id": "70feac34",
   "metadata": {},
   "source": [
    "<a id=\"destruct\"></a>\n",
    "\n",
    "### Object Destructuring\n",
    "\n",
    "This is a very important topic because it is widely used, and in most applications, considered best practice.\n",
    "\n",
    "This will allow us to break the keys of a dictionary up into variables when passing to a function"
   ]
  },
  {
   "cell_type": "code",
   "execution_count": 43,
   "id": "16443bf6",
   "metadata": {},
   "outputs": [],
   "source": [
    "let primaryColors=['red', 'yellow', 'blue']"
   ]
  },
  {
   "cell_type": "code",
   "execution_count": 44,
   "id": "c1be503c",
   "metadata": {},
   "outputs": [],
   "source": [
    "let [r, y, b]=primaryColors;"
   ]
  },
  {
   "cell_type": "code",
   "execution_count": 47,
   "id": "1534aa07",
   "metadata": {},
   "outputs": [
    {
     "name": "stdout",
     "output_type": "stream",
     "text": [
      "blue\n"
     ]
    }
   ],
   "source": [
    "console.log(b)"
   ]
  },
  {
   "cell_type": "code",
   "execution_count": 45,
   "id": "4222b98a",
   "metadata": {},
   "outputs": [],
   "source": [
    "let shoe={\n",
    "    size: 12,\n",
    "    color: 'red',\n",
    "    brand: 'Nike'\n",
    "}"
   ]
  },
  {
   "cell_type": "code",
   "execution_count": 46,
   "id": "2450acab",
   "metadata": {},
   "outputs": [
    {
     "name": "stdout",
     "output_type": "stream",
     "text": [
      "12\n",
      "red\n",
      "Nike\n"
     ]
    }
   ],
   "source": [
    "let {size, color, brand}=shoe\n",
    "\n",
    "console.log(size)\n",
    "console.log(color)\n",
    "console.log(brand)"
   ]
  },
  {
   "cell_type": "code",
   "execution_count": 51,
   "id": "f8680ab0",
   "metadata": {},
   "outputs": [
    {
     "data": {
      "text/plain": [
       "{ carColor: 'green', make: 'Toyota', model: 'Camry' }"
      ]
     },
     "execution_count": 51,
     "metadata": {},
     "output_type": "execute_result"
    }
   ],
   "source": [
    "car = {\n",
    "    carColor:'green',\n",
    "    make:'Toyota',\n",
    "    model:'Camry'\n",
    "}\n",
    "let {carColor, make, model}=car"
   ]
  },
  {
   "cell_type": "markdown",
   "id": "b057608f",
   "metadata": {},
   "source": [
    "#### As Variables"
   ]
  },
  {
   "cell_type": "markdown",
   "id": "163c32cb",
   "metadata": {},
   "source": [
    "<strong>Note: </strong> the variable names must match the names of the keys in the object."
   ]
  },
  {
   "cell_type": "code",
   "execution_count": null,
   "id": "e9d4f3a7",
   "metadata": {},
   "outputs": [],
   "source": []
  },
  {
   "cell_type": "code",
   "execution_count": null,
   "id": "69c81f8d",
   "metadata": {},
   "outputs": [],
   "source": []
  },
  {
   "cell_type": "markdown",
   "id": "9bdcc7b7",
   "metadata": {},
   "source": [
    "#### As parameters"
   ]
  },
  {
   "cell_type": "markdown",
   "id": "e988dbda",
   "metadata": {},
   "source": [
    "First, let's remember how this would work when passing an array"
   ]
  },
  {
   "cell_type": "code",
   "execution_count": 52,
   "id": "8558aee9",
   "metadata": {},
   "outputs": [
    {
     "name": "stdout",
     "output_type": "stream",
     "text": [
      "a h\n",
      "b i\n",
      "c undefined\n"
     ]
    }
   ],
   "source": [
    "function myArrayFunction([a, b, c]){\n",
    "    console.log('a', a);\n",
    "    console.log('b', b);\n",
    "    console.log('c', c);\n",
    "}\n",
    "myArrayFunction('hi', 'hello', 'hola')"
   ]
  },
  {
   "cell_type": "markdown",
   "id": "0641ecae",
   "metadata": {},
   "source": [
    "<b>Now, let's see how this looks with an object without destructuring</b>"
   ]
  },
  {
   "cell_type": "code",
   "execution_count": 53,
   "id": "8710136b",
   "metadata": {},
   "outputs": [],
   "source": [
    "//Without destructuring\n",
    "function logShoeInfo(shoeObj){\n",
    "    console.log(shoeObj.brand)\n",
    "    console.log(shoeObj.size)\n",
    "    console.log(shoeObj.color)\n",
    "}"
   ]
  },
  {
   "cell_type": "code",
   "execution_count": 55,
   "id": "6a3127af",
   "metadata": {},
   "outputs": [],
   "source": [
    "let shoe2={\n",
    "    brand:'Adidas',\n",
    "    size:10,\n",
    "    color:'blue'\n",
    "}"
   ]
  },
  {
   "cell_type": "code",
   "execution_count": 56,
   "id": "87965983",
   "metadata": {},
   "outputs": [
    {
     "name": "stdout",
     "output_type": "stream",
     "text": [
      "Adidas\n",
      "10\n",
      "blue\n"
     ]
    }
   ],
   "source": [
    "logShoeInfo(shoe2)"
   ]
  },
  {
   "cell_type": "markdown",
   "id": "0ff839bf",
   "metadata": {},
   "source": [
    "<b>and with destructuring </b>"
   ]
  },
  {
   "cell_type": "code",
   "execution_count": null,
   "id": "5a72c275",
   "metadata": {},
   "outputs": [],
   "source": [
    "//With Destructuring \n"
   ]
  },
  {
   "cell_type": "code",
   "execution_count": 58,
   "id": "33ff846b",
   "metadata": {},
   "outputs": [
    {
     "name": "stdout",
     "output_type": "stream",
     "text": [
      "Nike\n",
      "12\n",
      "red\n"
     ]
    }
   ],
   "source": [
    "logShoeInfo(shoe)"
   ]
  },
  {
   "cell_type": "code",
   "execution_count": 59,
   "id": "d150d102",
   "metadata": {},
   "outputs": [
    {
     "ename": "SyntaxError",
     "evalue": "Unexpected identifier",
     "output_type": "error",
     "traceback": [
      "evalmachine.<anonymous>:6",
      "    hiTops:true",
      "    ^^^^^^",
      "",
      "SyntaxError: Unexpected identifier",
      "    at new Script (node:vm:100:7)",
      "    at createScript (node:vm:259:10)",
      "    at Object.runInThisContext (node:vm:307:10)",
      "    at run ([eval]:1020:15)",
      "    at onRunRequest ([eval]:864:18)",
      "    at onMessage ([eval]:828:13)",
      "    at process.emit (node:events:513:28)",
      "    at emit (node:internal/child_process:937:14)",
      "    at process.processTicksAndRejections (node:internal/process/task_queues:83:21)"
     ]
    }
   ],
   "source": [
    "let radicalShoe={\n",
    "    brand:'Red',\n",
    "    color:'Rainbow',\n",
    "    size:11,\n",
    "    secondaryColor:'Black'\n",
    "    hiTops:true\n",
    "}\n",
    "logShoe(radicalShoe)"
   ]
  },
  {
   "cell_type": "code",
   "execution_count": 62,
   "id": "4f4808ac",
   "metadata": {},
   "outputs": [
    {
     "name": "stdout",
     "output_type": "stream",
     "text": [
      "Sandal\n",
      "11\n",
      "undefined\n"
     ]
    }
   ],
   "source": [
    "sandal={\n",
    "    brand:'Sandal',\n",
    "    size:11\n",
    "}\n",
    "logShoeInfo(sandal)"
   ]
  },
  {
   "cell_type": "markdown",
   "id": "3e614632",
   "metadata": {},
   "source": [
    "#### Mixing destructuring with other parameters"
   ]
  },
  {
   "cell_type": "code",
   "execution_count": 63,
   "id": "93ba8d77",
   "metadata": {},
   "outputs": [],
   "source": [
    "let personJones={\n",
    "    firstName:\"Russel\",\n",
    "    lastName:\"Jones\",\n",
    "    nickName:\"Ol' Dirty Illegitimate Child\",\n",
    "    age: 35,\n",
    "    height:62\n",
    "}\n",
    "\n",
    "let quote = `Here I go, deep type flow, Jackques Costueau could never get this low.`\n"
   ]
  },
  {
   "cell_type": "code",
   "execution_count": 65,
   "id": "4231e3bb",
   "metadata": {
    "scrolled": true
   },
   "outputs": [
    {
     "name": "stdout",
     "output_type": "stream",
     "text": [
      "Here I go, deep type flow, Jackques Costueau could never get this low.\n",
      "By Russel \"Ol' Dirty Illegitimate Child\" Jones\n",
      "Age: 35 Height: 62\n"
     ]
    }
   ],
   "source": [
    "function sayIt(aQuote, {firstName, lastName, nickName, age, height}){\n",
    "    console.log(aQuote);\n",
    "    console.log(`By ${firstName} \"${nickName}\" ${lastName}`);\n",
    "    console.log(`Age: ${age} Height: ${height}`);\n",
    "}\n",
    "\n",
    "sayIt(quote, personJones)"
   ]
  },
  {
   "cell_type": "markdown",
   "id": "b1499ae0",
   "metadata": {},
   "source": [
    "<a id=\"spread\"></a>\n",
    "\n",
    "#### The Spread Operator"
   ]
  },
  {
   "cell_type": "markdown",
   "id": "c55a2f62",
   "metadata": {},
   "source": [
    "The spread operator can be used to copy an object, combine multiple objects, or even to add a new key while copying an object"
   ]
  },
  {
   "cell_type": "code",
   "execution_count": 66,
   "id": "5a58546a",
   "metadata": {},
   "outputs": [
    {
     "name": "stdout",
     "output_type": "stream",
     "text": [
      "{ name: 'Janet', city: 'Louisville', isGoodCoder: true }\n"
     ]
    }
   ],
   "source": [
    "console.log(person1)"
   ]
  },
  {
   "cell_type": "code",
   "execution_count": null,
   "id": "471fb81c",
   "metadata": {},
   "outputs": [],
   "source": []
  },
  {
   "cell_type": "markdown",
   "id": "0133d1d3",
   "metadata": {},
   "source": [
    "#### Copying"
   ]
  },
  {
   "cell_type": "code",
   "execution_count": 67,
   "id": "aef9a38a",
   "metadata": {},
   "outputs": [
    {
     "name": "stdout",
     "output_type": "stream",
     "text": [
      "{ name: 'Janet', city: 'Louisville', isGoodCoder: true }\n"
     ]
    }
   ],
   "source": [
    "let janet2={...person1};\n",
    "console.log(janet2)"
   ]
  },
  {
   "cell_type": "markdown",
   "id": "80137893",
   "metadata": {},
   "source": [
    "#### Adding a key while copying"
   ]
  },
  {
   "cell_type": "code",
   "execution_count": 68,
   "id": "d533b744",
   "metadata": {},
   "outputs": [
    {
     "name": "stdout",
     "output_type": "stream",
     "text": [
      "{ name: 'Janet', city: 'Louisville', isGoodCoder: true, id: 187 }\n"
     ]
    }
   ],
   "source": [
    "//add an id of 187 to the person object and save it as a new object called newPerson\n",
    "let newPerson={...person1, id: 187};\n",
    "console.log(newPerson)"
   ]
  },
  {
   "cell_type": "markdown",
   "id": "ae337d3b",
   "metadata": {},
   "source": [
    "#### Combining"
   ]
  },
  {
   "cell_type": "code",
   "execution_count": 69,
   "id": "3ec22de2",
   "metadata": {},
   "outputs": [
    {
     "name": "stdout",
     "output_type": "stream",
     "text": [
      "{ a: 123, b: 456, c: 789, d: 10 }\n"
     ]
    }
   ],
   "source": [
    "let obj1={a:123, b:456};\n",
    "let obj2={c:789, d:10};\n",
    "\n",
    "let obj3={...obj1, ...obj2}\n",
    "console.log(obj3)"
   ]
  },
  {
   "cell_type": "code",
   "execution_count": 72,
   "id": "3fb9d55e",
   "metadata": {},
   "outputs": [],
   "source": [
    "let objectA={id:1001, name:'Item A', price: 5.99};\n",
    "let objectB={price:9.55, description:'Great New Item'};"
   ]
  },
  {
   "cell_type": "markdown",
   "id": "e6f19647",
   "metadata": {},
   "source": [
    "<strong>Note: </strong> Both Objects have a key of price, Let's see which price gets added to the new object"
   ]
  },
  {
   "cell_type": "code",
   "execution_count": 73,
   "id": "3b43a020",
   "metadata": {},
   "outputs": [
    {
     "name": "stdout",
     "output_type": "stream",
     "text": [
      "┌─────────────┬──────────────────┐\n",
      "│   (index)   │      Values      │\n",
      "├─────────────┼──────────────────┤\n",
      "│     id      │       1001       │\n",
      "│    name     │     'Item A'     │\n",
      "│    price    │       9.55       │\n",
      "│ description │ 'Great New Item' │\n",
      "└─────────────┴──────────────────┘\n"
     ]
    }
   ],
   "source": [
    "let objAB={...objectA, ...objectB}\n",
    "console.table(objAB)"
   ]
  },
  {
   "cell_type": "code",
   "execution_count": 74,
   "id": "534aa8e4",
   "metadata": {},
   "outputs": [
    {
     "name": "stdout",
     "output_type": "stream",
     "text": [
      "┌─────────────┬──────────────────┐\n",
      "│   (index)   │      Values      │\n",
      "├─────────────┼──────────────────┤\n",
      "│    price    │       5.99       │\n",
      "│ description │ 'Great New Item' │\n",
      "│     id      │       1001       │\n",
      "│    name     │     'Item A'     │\n",
      "└─────────────┴──────────────────┘\n"
     ]
    }
   ],
   "source": [
    "let objBA={...objectB, ...objectA}\n",
    "console.table(objBA)"
   ]
  },
  {
   "cell_type": "markdown",
   "id": "1fb7014a",
   "metadata": {},
   "source": [
    "<a id=\"rest\"></a>\n",
    "\n",
    "### Rest Operator"
   ]
  },
  {
   "cell_type": "markdown",
   "id": "a3352ac6",
   "metadata": {},
   "source": [
    "Just like with arrays sometimes you only want to destructure part of your object, you can do this with the rest `...` operator"
   ]
  },
  {
   "cell_type": "code",
   "execution_count": 75,
   "id": "17d6111f",
   "metadata": {},
   "outputs": [
    {
     "data": {
      "text/plain": [
       "{ id: 1, title: 'test', body: 'My Test', author: 'Stephen King' }"
      ]
     },
     "execution_count": 75,
     "metadata": {},
     "output_type": "execute_result"
    }
   ],
   "source": [
    "restTestObj={\n",
    "    id:1,\n",
    "    title: \"test\",\n",
    "    body: \"My Test\",\n",
    "    author: \"Stephen King\"\n",
    "}\n",
    "\n",
    "\n",
    "let {title, author, ...anythingElse}=restTestObj\n"
   ]
  },
  {
   "cell_type": "code",
   "execution_count": 76,
   "id": "0836f866",
   "metadata": {},
   "outputs": [
    {
     "name": "stdout",
     "output_type": "stream",
     "text": [
      "test\n",
      "Stephen King\n",
      "{ id: 1, body: 'My Test' }\n"
     ]
    }
   ],
   "source": [
    "console.log(title);\n",
    "console.log(author);\n",
    "console.log(anythingElse)"
   ]
  },
  {
   "cell_type": "code",
   "execution_count": 77,
   "id": "3ad7fe05",
   "metadata": {},
   "outputs": [],
   "source": [
    "// If the property is not in the object, the variable will be undefined\n",
    "\n",
    "let country = {\n",
    "    name: 'USA',\n",
    "    capital: 'Washington, D.C.',\n",
    "    founded: 1776\n",
    "}\n",
    "\n",
    "let {population}=country"
   ]
  },
  {
   "cell_type": "code",
   "execution_count": 78,
   "id": "8f380b95",
   "metadata": {},
   "outputs": [
    {
     "name": "stdout",
     "output_type": "stream",
     "text": [
      "undefined\n"
     ]
    }
   ],
   "source": [
    "console.log(population)"
   ]
  },
  {
   "cell_type": "code",
   "execution_count": 79,
   "id": "60a2bcf2",
   "metadata": {
    "scrolled": true
   },
   "outputs": [
    {
     "name": "stdout",
     "output_type": "stream",
     "text": [
      "1776\n"
     ]
    }
   ],
   "source": [
    "let {founded}=country\n",
    "console.log(founded)"
   ]
  },
  {
   "cell_type": "code",
   "execution_count": 80,
   "id": "9fb585c0",
   "metadata": {},
   "outputs": [],
   "source": [
    "let student={\n",
    "    studentName:'Jimmy',\n",
    "    grade:'B+',\n",
    "    teacher:'Mrs. Featherbottom'\n",
    "}"
   ]
  },
  {
   "cell_type": "code",
   "execution_count": null,
   "id": "546ee495",
   "metadata": {},
   "outputs": [],
   "source": []
  },
  {
   "cell_type": "code",
   "execution_count": 81,
   "id": "1bfafbd3",
   "metadata": {},
   "outputs": [],
   "source": [
    "// This:\n",
    "let { studentName, grade, teacher } = student;\n",
    "\n",
    "// is equivalent to this:\n",
    "// let studentName = student.studentName;\n",
    "// let grade = student.grade;\n",
    "// let teacher = student.teacher;\n",
    "\n",
    "\n",
    "// ^ The above will throw an error because of let declarations (example only)"
   ]
  },
  {
   "cell_type": "code",
   "execution_count": 82,
   "id": "e14f04a4",
   "metadata": {},
   "outputs": [
    {
     "name": "stdout",
     "output_type": "stream",
     "text": [
      "Jimmy B+ Mrs. Featherbottom\n"
     ]
    }
   ],
   "source": [
    "console.log(studentName, grade, teacher)"
   ]
  },
  {
   "cell_type": "markdown",
   "id": "c2e83bc1",
   "metadata": {},
   "source": [
    "<a id=\"ice2\"></a>\n",
    "\n",
    "### In Class Assignment #2"
   ]
  },
  {
   "cell_type": "markdown",
   "id": "9630dc92",
   "metadata": {},
   "source": [
    "Create a function called `destructed` that recieves the `destructMe` dictionary using destructuring. Destruct the title body and author and leave the rest of the attributes in a parameter called `others`.\n",
    "Print out the title, body, and author to the console. Then print the entire contents of `others` to the console."
   ]
  },
  {
   "cell_type": "code",
   "execution_count": 84,
   "id": "9e4b3028",
   "metadata": {},
   "outputs": [],
   "source": [
    "var destructMe={\n",
    "    title: \"Intro to JavaScript\",\n",
    "    body: \"I really wish JavaScript had static type checking\",\n",
    "    createdOn: new Date(),\n",
    "    author: \"Kevin Beier\",\n",
    "    topic: \"Programming\",\n",
    "    tags: [\"JS\", \"Async\", \"Dynamic Types\"]\n",
    "}"
   ]
  },
  {
   "cell_type": "code",
   "execution_count": 87,
   "id": "7fb46ba2",
   "metadata": {},
   "outputs": [
    {
     "name": "stdout",
     "output_type": "stream",
     "text": [
      "Intro to JavaScript I really wish JavaScript had static type checking Kevin Beier {\n",
      "  createdOn: 2023-10-31T20:26:13.973Z,\n",
      "  topic: 'Programming',\n",
      "  tags: [ 'JS', 'Async', 'Dynamic Types' ]\n",
      "}\n"
     ]
    }
   ],
   "source": [
    "//Solution\n",
    "function destructed(varA){\n",
    "    let { title, body, author, ...others}=varA;\n",
    "    console.log(title, body, author, others);\n",
    "}\n",
    "\n",
    "destructed(destructMe)\n",
    "\n",
    "//OUTPUT:\n",
    "/*\n",
    "Intro to JavaScript I really wish JavaScript had static type checking Kevin Beier\n",
    "{\n",
    "  createdOn: 2023-06-07T16:18:31.133Z,\n",
    "  topic: 'Programming',\n",
    "  tags: [ 'JS', 'Async', 'Dynamic Types' ]\n",
    "}\n",
    "*/"
   ]
  },
  {
   "cell_type": "markdown",
   "id": "eede8031",
   "metadata": {},
   "source": [
    "<a id=\"chain\"></a>\n",
    "\n",
    "### Optional Chaining"
   ]
  },
  {
   "cell_type": "markdown",
   "id": "ff7db122",
   "metadata": {},
   "source": [
    "Imagine you have many of the same object, and you want to key into it.  Now imagine not all objects have that key, and you want to do an operation on every object without getting an error.  Welcome in optional chaining using the `?.`"
   ]
  },
  {
   "cell_type": "code",
   "execution_count": 89,
   "id": "4bf85372",
   "metadata": {},
   "outputs": [],
   "source": [
    "let bigObj1={\n",
    "    name:'Jack', \n",
    "    friends:['John', 'Joe', 'Jim']\n",
    "}\n",
    "\n",
    "let bigObj2={\n",
    "    name:'Kylie Jenner'\n",
    "}"
   ]
  },
  {
   "cell_type": "code",
   "execution_count": 90,
   "id": "e70de169",
   "metadata": {},
   "outputs": [
    {
     "name": "stdout",
     "output_type": "stream",
     "text": [
      "{ name: 'Jack', friends: [ 'John', 'Joe', 'Jim', 'Jeremy' ] }\n"
     ]
    }
   ],
   "source": [
    "bigObj1.friends.push('Jeremy');\n",
    "console.log(bigObj1)"
   ]
  },
  {
   "cell_type": "code",
   "execution_count": 91,
   "id": "022c6873",
   "metadata": {},
   "outputs": [
    {
     "ename": "TypeError",
     "evalue": "Cannot read properties of undefined (reading 'push')",
     "output_type": "error",
     "traceback": [
      "evalmachine.<anonymous>:1",
      "bigObj2.friends.push('anyone')",
      "                ^",
      "",
      "TypeError: Cannot read properties of undefined (reading 'push')",
      "    at evalmachine.<anonymous>:1:17",
      "    at Script.runInThisContext (node:vm:129:12)",
      "    at Object.runInThisContext (node:vm:307:38)",
      "    at run ([eval]:1020:15)",
      "    at onRunRequest ([eval]:864:18)",
      "    at onMessage ([eval]:828:13)",
      "    at process.emit (node:events:513:28)",
      "    at emit (node:internal/child_process:937:14)",
      "    at process.processTicksAndRejections (node:internal/process/task_queues:83:21)"
     ]
    }
   ],
   "source": [
    "bigObj2.friends.push('anyone')"
   ]
  },
  {
   "cell_type": "code",
   "execution_count": 92,
   "id": "340f9b47",
   "metadata": {},
   "outputs": [
    {
     "name": "stdout",
     "output_type": "stream",
     "text": [
      "{ name: 'Kylie Jenner' }\n"
     ]
    }
   ],
   "source": [
    "bigObj2.friends?.push('anyone');\n",
    "console.log(bigObj2)"
   ]
  },
  {
   "cell_type": "code",
   "execution_count": null,
   "id": "0db18d50",
   "metadata": {},
   "outputs": [],
   "source": []
  },
  {
   "cell_type": "code",
   "execution_count": 93,
   "id": "06c86d99",
   "metadata": {
    "scrolled": true
   },
   "outputs": [
    {
     "data": {
      "text/plain": [
       "[\n",
       "  {\n",
       "    id: 1,\n",
       "    title: 'Oppenheimer',\n",
       "    releaseYear: 2023,\n",
       "    studio: { name: 'Warner Bros' }\n",
       "  },\n",
       "  {\n",
       "    id: 2,\n",
       "    title: 'The Dark Knight',\n",
       "    releaseYear: 2009,\n",
       "    studio: { name: 'Sony' }\n",
       "  },\n",
       "  { id: 3, title: 'Gladiator', releaseYear: 2001 }\n",
       "]"
      ]
     },
     "execution_count": 93,
     "metadata": {},
     "output_type": "execute_result"
    }
   ],
   "source": [
    "movies = [\n",
    "    { id: 1, title: 'Oppenheimer', releaseYear: 2023, studio: { name: 'Warner Bros'}},\n",
    "    { id: 2, title: 'The Dark Knight', releaseYear: 2009, studio: { name: 'Sony'}},\n",
    "    { id: 3, title: 'Gladiator', releaseYear: 2001}\n",
    "]"
   ]
  },
  {
   "cell_type": "code",
   "execution_count": 103,
   "id": "354d1554",
   "metadata": {},
   "outputs": [
    {
     "name": "stdout",
     "output_type": "stream",
     "text": [
      "Warner Bros\n",
      "Sony\n",
      "undefined\n"
     ]
    }
   ],
   "source": [
    "for (let movie of movies){\n",
    "    console.log(movie.studio?.name)\n",
    "}"
   ]
  },
  {
   "cell_type": "code",
   "execution_count": 104,
   "id": "3f36ce67",
   "metadata": {},
   "outputs": [
    {
     "name": "stdout",
     "output_type": "stream",
     "text": [
      "Warner Bros\n",
      "Sony\n",
      "undefined\n"
     ]
    }
   ],
   "source": [
    "// condition ? if true : if false\n",
    "for (let movie of movies){\n",
    "    console.log(movie? movie.studio? movie.studio.name : undefined : undefined)\n",
    "}"
   ]
  },
  {
   "cell_type": "markdown",
   "id": "9d2712b8",
   "metadata": {},
   "source": [
    "<a id=\"nco\"></a>\n",
    "\n",
    "### Nullish Coalescing Operator (??)"
   ]
  },
  {
   "cell_type": "markdown",
   "id": "0d2088ff",
   "metadata": {},
   "source": [
    "Often times we want to check the value of something and if it is undefined or null, we want to use a default value instead. The Nullish Coalescing Operator `??` allows just that."
   ]
  },
  {
   "cell_type": "code",
   "execution_count": 105,
   "id": "50c62d20",
   "metadata": {},
   "outputs": [
    {
     "name": "stdout",
     "output_type": "stream",
     "text": [
      "Jack : [ 'John', 'Joe', 'Jim', 'Jeremy' ]\n",
      "Kylie Jenner : has no friends\n"
     ]
    }
   ],
   "source": [
    "console.log(bigObj1.name, ':', bigObj1.friends ?? 'has no friends');\n",
    "console.log(bigObj2.name, ':', bigObj2.friends ?? 'has no friends');"
   ]
  },
  {
   "cell_type": "markdown",
   "id": "468cc379",
   "metadata": {},
   "source": [
    "<b>It can be combined with optional chaining</b>"
   ]
  },
  {
   "cell_type": "code",
   "execution_count": 110,
   "id": "6e65f06b",
   "metadata": {
    "scrolled": true
   },
   "outputs": [
    {
     "name": "stdout",
     "output_type": "stream",
     "text": [
      "Oppenheimer released in 2023 -- Studio: Warner Bros\n",
      "The Dark Knight released in 2009 -- Studio: Sony\n",
      "Gladiator released in 2001 -- Studio: Independent\n"
     ]
    }
   ],
   "source": [
    "for (let m of movies){\n",
    "    console.log(`${m.title} released in ${m.releaseYear} -- Studio: ${m.studio?.name ?? 'Independent'}`)\n",
    "}"
   ]
  },
  {
   "cell_type": "markdown",
   "id": "81761fe4",
   "metadata": {},
   "source": [
    "<a id=\"objeq\"></a>\n",
    "\n",
    "## Object Equality"
   ]
  },
  {
   "cell_type": "markdown",
   "id": "3c9a7cf5",
   "metadata": {},
   "source": [
    "Testing whether two object in JS are the same can be rather confusing.\n",
    "\n",
    "In JavaScript two Objects are considered equal if they point to the same spot in memory, not if the values are the same"
   ]
  },
  {
   "cell_type": "code",
   "execution_count": 111,
   "id": "db9ab7aa",
   "metadata": {},
   "outputs": [
    {
     "name": "stdout",
     "output_type": "stream",
     "text": [
      "false\n",
      "false\n"
     ]
    }
   ],
   "source": [
    "let objX={id:1};\n",
    "let objY={id:1};\n",
    "\n",
    "console.log(objX===objY);\n",
    "console.log(objX==objY);"
   ]
  },
  {
   "cell_type": "code",
   "execution_count": 112,
   "id": "906f204d",
   "metadata": {},
   "outputs": [],
   "source": [
    "let objZ=objX;"
   ]
  },
  {
   "cell_type": "code",
   "execution_count": 114,
   "id": "f832bfcf",
   "metadata": {},
   "outputs": [
    {
     "name": "stdout",
     "output_type": "stream",
     "text": [
      "true\n",
      "false\n"
     ]
    }
   ],
   "source": [
    "console.log(objX===objZ);\n",
    "console.log(objY===objZ);"
   ]
  },
  {
   "cell_type": "markdown",
   "id": "85276a0f",
   "metadata": {},
   "source": [
    "In this case the easy way to determine if the values are the same is to compare the id values"
   ]
  },
  {
   "cell_type": "code",
   "execution_count": 115,
   "id": "94143284",
   "metadata": {},
   "outputs": [
    {
     "name": "stdout",
     "output_type": "stream",
     "text": [
      "true\n",
      "true\n",
      "true\n"
     ]
    }
   ],
   "source": [
    "console.log(objX.id==objY.id);\n",
    "console.log(objX.id==objZ.id);\n",
    "console.log(objY.id==objZ.id);"
   ]
  },
  {
   "cell_type": "code",
   "execution_count": 116,
   "id": "75762ed2",
   "metadata": {},
   "outputs": [
    {
     "name": "stdout",
     "output_type": "stream",
     "text": [
      "false\n",
      "false\n",
      "true\n"
     ]
    }
   ],
   "source": [
    "// Same applies to arrays - must be same object in memory\n",
    "let arr1=[1, 2, 3];\n",
    "let arr2=[1, 2, 3];\n",
    "let arr3=arr1\n",
    "\n",
    "console.log(arr1===arr2);\n",
    "console.log(arr2===arr3);\n",
    "console.log(arr3===arr1);"
   ]
  },
  {
   "cell_type": "markdown",
   "id": "f9efdcb8",
   "metadata": {},
   "source": [
    "<a id=\"emptyobj\"></a>\n",
    "\n",
    "### Checking for Empty Objects/Arrays"
   ]
  },
  {
   "cell_type": "code",
   "execution_count": 117,
   "id": "8afacd22",
   "metadata": {
    "scrolled": true
   },
   "outputs": [],
   "source": [
    "let testObj;\n",
    "let testArr;"
   ]
  },
  {
   "cell_type": "code",
   "execution_count": 120,
   "id": "c899219d",
   "metadata": {},
   "outputs": [
    {
     "name": "stdout",
     "output_type": "stream",
     "text": [
      "testObj is true\n",
      "testArr is true\n"
     ]
    }
   ],
   "source": [
    "testObj={id:123};\n",
    "if (testObj){\n",
    "    console.log('testObj is true')\n",
    "}else{\n",
    "    console.log('False')\n",
    "}\n",
    "\n",
    "testArr=[];\n",
    "if (testArr){\n",
    "    console.log('testArr is true')\n",
    "}else{\n",
    "    console.log('False')\n",
    "}"
   ]
  },
  {
   "cell_type": "code",
   "execution_count": 121,
   "id": "09103e0b",
   "metadata": {},
   "outputs": [
    {
     "name": "stdout",
     "output_type": "stream",
     "text": [
      "The array is very empty\n"
     ]
    }
   ],
   "source": [
    "// To see if an array is empty, you can use the .length property (remember 0 evaluates to false)\n",
    "if (testArr.length){\n",
    "    console.log('The array is not empty')\n",
    "} else {\n",
    "    console.log('The array is very empty')\n",
    "}"
   ]
  },
  {
   "cell_type": "code",
   "execution_count": 124,
   "id": "97ce168d",
   "metadata": {},
   "outputs": [
    {
     "name": "stdout",
     "output_type": "stream",
     "text": [
      "The obj is not empty\n"
     ]
    }
   ],
   "source": [
    "// To see if an object is empty, first use the keys method to get array of keys, check that length\n",
    "if (Object.keys(testObj)){\n",
    "    console.log('The obj is not empty')\n",
    "    }else{console.log('object is empty')}\n"
   ]
  },
  {
   "cell_type": "code",
   "execution_count": null,
   "id": "e91af203",
   "metadata": {},
   "outputs": [],
   "source": []
  },
  {
   "cell_type": "markdown",
   "id": "061f335e",
   "metadata": {},
   "source": [
    "<a id=\"loop\"></a>\n",
    "\n",
    "#### Looping over Objects"
   ]
  },
  {
   "cell_type": "markdown",
   "id": "70064320",
   "metadata": {},
   "source": [
    "In python, we have .keys .values and .items. In JS, we have .keys .values and .entries, but instead of them being instance methods on the Dictionary class (like in python), they are static methods of the Object Class (meaning they don't work on the instance but they do work on the class itself)."
   ]
  },
  {
   "cell_type": "code",
   "execution_count": null,
   "id": "5efef94b",
   "metadata": {},
   "outputs": [],
   "source": []
  },
  {
   "cell_type": "markdown",
   "id": "3b28bdbf",
   "metadata": {},
   "source": [
    "##### .keys()"
   ]
  },
  {
   "cell_type": "code",
   "execution_count": 125,
   "id": "b27ac1f4",
   "metadata": {},
   "outputs": [
    {
     "data": {
      "text/plain": [
       "[ 'name', 'city', 'isGoodCoder' ]"
      ]
     },
     "execution_count": 125,
     "metadata": {},
     "output_type": "execute_result"
    }
   ],
   "source": [
    "Object.keys(person1)"
   ]
  },
  {
   "cell_type": "markdown",
   "id": "b5c56f99",
   "metadata": {},
   "source": [
    "##### .values()"
   ]
  },
  {
   "cell_type": "code",
   "execution_count": 126,
   "id": "acd9a39f",
   "metadata": {},
   "outputs": [
    {
     "data": {
      "text/plain": [
       "[ 'Janet', 'Louisville', true ]"
      ]
     },
     "execution_count": 126,
     "metadata": {},
     "output_type": "execute_result"
    }
   ],
   "source": [
    "Object.values(person1)"
   ]
  },
  {
   "cell_type": "markdown",
   "id": "fc52a1bd",
   "metadata": {},
   "source": [
    "##### .entries()"
   ]
  },
  {
   "cell_type": "code",
   "execution_count": 127,
   "id": "ea3402ff",
   "metadata": {},
   "outputs": [
    {
     "data": {
      "text/plain": [
       "[\n",
       "  [ 'name', 'Janet' ],\n",
       "  [ 'city', 'Louisville' ],\n",
       "  [ 'isGoodCoder', true ]\n",
       "]"
      ]
     },
     "execution_count": 127,
     "metadata": {},
     "output_type": "execute_result"
    }
   ],
   "source": [
    "Object.entries(person1)"
   ]
  },
  {
   "cell_type": "markdown",
   "id": "4a381a29",
   "metadata": {},
   "source": [
    "<a id=\"tradloop\"></a>\n",
    "\n",
    "#### Traditional (ES5 and earlier) looping over Object"
   ]
  },
  {
   "cell_type": "code",
   "execution_count": 129,
   "id": "b16376dd",
   "metadata": {},
   "outputs": [
    {
     "ename": "SyntaxError",
     "evalue": "missing ) after argument list",
     "output_type": "error",
     "traceback": [
      "evalmachine.<anonymous>:1",
      "for (let i=0; i<Object.keys(person1.length; i++){console.log('Keys', Object.keys(person1)[i])}",
      "                                    ^^^^^^",
      "",
      "SyntaxError: missing ) after argument list",
      "    at new Script (node:vm:100:7)",
      "    at createScript (node:vm:259:10)",
      "    at Object.runInThisContext (node:vm:307:10)",
      "    at run ([eval]:1020:15)",
      "    at onRunRequest ([eval]:864:18)",
      "    at onMessage ([eval]:828:13)",
      "    at process.emit (node:events:513:28)",
      "    at emit (node:internal/child_process:937:14)",
      "    at process.processTicksAndRejections (node:internal/process/task_queues:83:21)"
     ]
    }
   ],
   "source": [
    "for (let i=0; i<Object.keys(person1.length; i++){console.log('Keys', Object.keys(person1)[i])}"
   ]
  },
  {
   "cell_type": "markdown",
   "id": "7ae11556",
   "metadata": {},
   "source": [
    "<a id=\"ice3\"></a>\n",
    "\n",
    "### In Class Assignment #3"
   ]
  },
  {
   "cell_type": "markdown",
   "id": "cb15c647",
   "metadata": {},
   "source": [
    "In the cell provided, create a traditional for loop to loop over all the keys and values in the `herbie` object and log them to the console in the following format:\n",
    "\n",
    "```\n",
    "the key [key] has the value of [value]\n",
    "```"
   ]
  },
  {
   "cell_type": "code",
   "execution_count": null,
   "id": "c6d888bd",
   "metadata": {},
   "outputs": [],
   "source": [
    "var herbie={\n",
    "    wheels:\"4\",\n",
    "    color: \"white\",\n",
    "    make: \"VW\",\n",
    "    model: \"Beetle\",\n",
    "    year: 1963,\n",
    "    number: 53\n",
    "}"
   ]
  },
  {
   "cell_type": "code",
   "execution_count": null,
   "id": "774a9800",
   "metadata": {},
   "outputs": [],
   "source": [
    "//Solution\n",
    "\n",
    "\n",
    "\n"
   ]
  },
  {
   "cell_type": "markdown",
   "id": "b8297246",
   "metadata": {},
   "source": [
    "<a id=\"forin\"></a>\n",
    "##### For in Loop"
   ]
  },
  {
   "cell_type": "markdown",
   "id": "3da036cc",
   "metadata": {},
   "source": [
    "ES6 marked the introduction of the `for in` loop in JS unlike python which uses this to loop over lists, in JS it is used to loop over the keys of an object.\n",
    "\n",
    "<strong>Remember:</strong> In JS, to loop over a lis,t we can use the `for of` loop.\n",
    "\n",
    "syntax:\n",
    "```\n",
    "for (let placeholder in myObject){\n",
    "    //do stuff\n",
    "}\n",
    "```"
   ]
  },
  {
   "cell_type": "code",
   "execution_count": 130,
   "id": "a48ea679",
   "metadata": {
    "scrolled": true
   },
   "outputs": [
    {
     "name": "stdout",
     "output_type": "stream",
     "text": [
      "{ name: 'Maury', city: 'San Diego' }\n"
     ]
    }
   ],
   "source": [
    "console.log(person2)"
   ]
  },
  {
   "cell_type": "code",
   "execution_count": 131,
   "id": "63c06ca5",
   "metadata": {},
   "outputs": [
    {
     "name": "stdout",
     "output_type": "stream",
     "text": [
      "key name\n",
      "value Maury\n",
      "key city\n",
      "value San Diego\n"
     ]
    }
   ],
   "source": [
    "for (let key in person2){\n",
    "    console.log('key', key)\n",
    "    console.log('value', person2[key])\n",
    "}"
   ]
  },
  {
   "cell_type": "code",
   "execution_count": 132,
   "id": "0fb219c5",
   "metadata": {
    "scrolled": true
   },
   "outputs": [
    {
     "name": "stdout",
     "output_type": "stream",
     "text": [
      "For...Of:\n",
      "New York\n",
      "Los Angeles\n",
      "Chicago\n",
      "Houston\n",
      "Phoenix\n",
      "for in\n",
      "0\n",
      "1\n",
      "2\n",
      "3\n",
      "4\n"
     ]
    }
   ],
   "source": [
    "var cities = ['New York', 'Los Angeles', 'Chicago', 'Houston', 'Phoenix'];\n",
    "console.log('For...Of:')\n",
    "for (let c of cities){\n",
    "    console.log(c)\n",
    "}\n",
    "console.log('for in')\n",
    "for(let c in cities){\n",
    "    console.log(c)\n",
    "}"
   ]
  },
  {
   "cell_type": "code",
   "execution_count": 133,
   "id": "0ceade84",
   "metadata": {},
   "outputs": [
    {
     "name": "stdout",
     "output_type": "stream",
     "text": [
      "object\n"
     ]
    }
   ],
   "source": [
    "console.log(typeof cities)"
   ]
  },
  {
   "cell_type": "code",
   "execution_count": 134,
   "id": "9e10f375",
   "metadata": {},
   "outputs": [
    {
     "name": "stdout",
     "output_type": "stream",
     "text": [
      "true\n"
     ]
    }
   ],
   "source": [
    "//To determine if an object is an array\n",
    "console.log(Array.isArray(cities))"
   ]
  },
  {
   "cell_type": "code",
   "execution_count": 135,
   "id": "adfa0044",
   "metadata": {},
   "outputs": [
    {
     "name": "stdout",
     "output_type": "stream",
     "text": [
      "object\n",
      "false\n"
     ]
    }
   ],
   "source": [
    "console.log(typeof person2);\n",
    "console.log(Array.isArray(person2))"
   ]
  },
  {
   "cell_type": "markdown",
   "id": "0502bc0d",
   "metadata": {},
   "source": [
    "<a id=\"ice4\"></a>\n",
    "### In Class Assignment #4"
   ]
  },
  {
   "cell_type": "markdown",
   "id": "508fc924",
   "metadata": {},
   "source": [
    "In the cell provided create a `for...in` loop to loop over all the keys and values in the `kit` object and log them to the console in the following format:\n",
    "\n",
    "If the value is null use the nullish coalescence to print `\"No Value Given\"` \n",
    "\n",
    "```\n",
    "the key [key] has the value of [value]\n",
    "```"
   ]
  },
  {
   "cell_type": "code",
   "execution_count": 1,
   "id": "fcf8fced",
   "metadata": {},
   "outputs": [],
   "source": [
    "var kit={\n",
    "    wheels:\"4\",\n",
    "    color: \"black\",\n",
    "    make: \"Pontiac\",\n",
    "    model: \"Thunderbird\",\n",
    "    year: 1981,\n",
    "    number: null\n",
    "}"
   ]
  },
  {
   "cell_type": "code",
   "execution_count": 4,
   "id": "e82bb820",
   "metadata": {},
   "outputs": [
    {
     "ename": "SyntaxError",
     "evalue": "Unexpected end of input",
     "output_type": "error",
     "traceback": [
      "evalmachine.<anonymous>:8",
      "",
      "",
      "",
      "SyntaxError: Unexpected end of input",
      "    at new Script (node:vm:100:7)",
      "    at createScript (node:vm:259:10)",
      "    at Object.runInThisContext (node:vm:307:10)",
      "    at run ([eval]:1020:15)",
      "    at onRunRequest ([eval]:864:18)",
      "    at onMessage ([eval]:828:13)",
      "    at process.emit (node:events:513:28)",
      "    at emit (node:internal/child_process:937:14)",
      "    at process.processTicksAndRejections (node:internal/process/task_queues:83:21)"
     ]
    }
   ],
   "source": [
    "//solution\n",
    "\n",
    "for (let key in kit){\n",
    "    console.log(`the key ${key} has a value of ${kit[key] ?? 'No Value Given}'`)\n",
    "}\n",
    "\n",
    "\n"
   ]
  },
  {
   "cell_type": "markdown",
   "id": "ac369328",
   "metadata": {},
   "source": [
    "### Returning from an arrow function"
   ]
  },
  {
   "cell_type": "markdown",
   "id": "b563a094",
   "metadata": {},
   "source": [
    "When returning an object literal from a one line arrow function, we have to surround the object with parentheses, otherwise JS sees the braces and assumes it is starting the code block for your arrow function."
   ]
  },
  {
   "cell_type": "code",
   "execution_count": 5,
   "id": "d775ab41",
   "metadata": {},
   "outputs": [
    {
     "name": "stdout",
     "output_type": "stream",
     "text": [
      "{ id: 1, name: 'Brian', city: 'Chicago' }\n"
     ]
    }
   ],
   "source": [
    "function createObj(){\n",
    "    return{\n",
    "        id:1,\n",
    "        name:'Brian',\n",
    "        city:'Chicago'\n",
    "    }\n",
    "}\n",
    "\n",
    "let x = createObj()\n",
    "console.log(x)"
   ]
  },
  {
   "cell_type": "code",
   "execution_count": null,
   "id": "e9279b51",
   "metadata": {},
   "outputs": [],
   "source": [
    "const createObjArrow = () => {\n",
    "    return {\n",
    "        id:1,\n",
    "        name:'Brian',\n",
    "        city:'Chicago'\n",
    "}"
   ]
  },
  {
   "cell_type": "code",
   "execution_count": 6,
   "id": "2be39ccf",
   "metadata": {},
   "outputs": [
    {
     "name": "stdout",
     "output_type": "stream",
     "text": [
      "Hello\n"
     ]
    }
   ],
   "source": [
    "var returnHello = () => 'Hello'\n",
    "console.log(returnHello())"
   ]
  },
  {
   "cell_type": "code",
   "execution_count": 9,
   "id": "ee8b3749",
   "metadata": {},
   "outputs": [
    {
     "name": "stdout",
     "output_type": "stream",
     "text": [
      "{ id: 2, name: 'Sarah', city: 'Denver' }\n"
     ]
    }
   ],
   "source": [
    "var implicitObj=()=>({id:2, name:'Sarah', city:'Denver'})\n",
    "console.log(implicitObj())"
   ]
  },
  {
   "cell_type": "markdown",
   "id": "371f7713",
   "metadata": {},
   "source": [
    "<a id=\"this\"></a>\n",
    "### this keyword"
   ]
  },
  {
   "cell_type": "markdown",
   "id": "9fc35382",
   "metadata": {},
   "source": [
    "The `this` keyword in JS is similar to self in Python. It is a way to refer to the parent object or instance.\n",
    "\n",
    "One important thing to note is that arrow functions do not bind this to their parent."
   ]
  },
  {
   "cell_type": "code",
   "execution_count": 12,
   "id": "ef4fc287",
   "metadata": {},
   "outputs": [
    {
     "name": "stdout",
     "output_type": "stream",
     "text": [
      "{\n",
      "  firstName: 'Chris',\n",
      "  lastName: 'Rock',\n",
      "  fullName: [Function: fullName]\n",
      "}\n"
     ]
    }
   ],
   "source": [
    "var thisObject = {\n",
    "    firstName:'Chris',\n",
    "    lastName:'Rock',\n",
    "    fullName: function(){return this.firstName+' '+this.lastName}\n",
    "}\n",
    "console.log(thisObject)"
   ]
  },
  {
   "cell_type": "code",
   "execution_count": 13,
   "id": "2b275482",
   "metadata": {},
   "outputs": [
    {
     "data": {
      "text/plain": [
       "'Chris Rock'"
      ]
     },
     "execution_count": 13,
     "metadata": {},
     "output_type": "execute_result"
    }
   ],
   "source": [
    "thisObject.fullName()"
   ]
  },
  {
   "cell_type": "code",
   "execution_count": 14,
   "id": "f9c5a8d0",
   "metadata": {},
   "outputs": [],
   "source": [
    "let myTestObj={\n",
    "    getThisReg:function(){return this},\n",
    "    getThisArrow: ()=>this    \n",
    "}"
   ]
  },
  {
   "cell_type": "code",
   "execution_count": 15,
   "id": "04499c02",
   "metadata": {},
   "outputs": [
    {
     "name": "stdout",
     "output_type": "stream",
     "text": [
      "<ref *1> Object [global] {\n",
      "  global: [Circular *1],\n",
      "  queueMicrotask: [Function: queueMicrotask],\n",
      "  clearImmediate: [Function: clearImmediate],\n",
      "  setImmediate: [Function: setImmediate] {\n",
      "    [Symbol(nodejs.util.promisify.custom)]: [Getter]\n",
      "  },\n",
      "  structuredClone: [Function: structuredClone],\n",
      "  clearInterval: [Function: clearInterval],\n",
      "  clearTimeout: [Function: clearTimeout],\n",
      "  setInterval: [Function: setInterval],\n",
      "  setTimeout: [Function: setTimeout] {\n",
      "    [Symbol(nodejs.util.promisify.custom)]: [Getter]\n",
      "  },\n",
      "  atob: [Function: atob],\n",
      "  btoa: [Function: btoa],\n",
      "  performance: Performance {\n",
      "    nodeTiming: PerformanceNodeTiming {\n",
      "      name: 'node',\n",
      "      entryType: 'node',\n",
      "      startTime: 0,\n",
      "      duration: 8998214.132800043,\n",
      "      nodeStart: 2.8537999987602234,\n",
      "      v8Start: 6.759999990463257,\n",
      "      bootstrapComplete: 41.126399993896484,\n",
      "      environment: 15.952700018882751,\n",
      "      loopStart: 45.99540001153946,\n",
      "      loopExit: -1,\n",
      "      idleTime: 8998120.9149\n",
      "    },\n",
      "    timeOrigin: 1698847160143.752\n",
      "  },\n",
      "  fetch: [AsyncFunction: fetch],\n",
      "  __filename: '[eval]',\n",
      "  module: <ref *2> [Function: Module] {\n",
      "    builtinModules: [\n",
      "      '_http_agent',         '_http_client',        '_http_common',\n",
      "      '_http_incoming',      '_http_outgoing',      '_http_server',\n",
      "      '_stream_duplex',      '_stream_passthrough', '_stream_readable',\n",
      "      '_stream_transform',   '_stream_wrap',        '_stream_writable',\n",
      "      '_tls_common',         '_tls_wrap',           'assert',\n",
      "      'assert/strict',       'async_hooks',         'buffer',\n",
      "      'child_process',       'cluster',             'console',\n",
      "      'constants',           'crypto',              'dgram',\n",
      "      'diagnostics_channel', 'dns',                 'dns/promises',\n",
      "      'domain',              'events',              'fs',\n",
      "      'fs/promises',         'http',                'http2',\n",
      "      'https',               'inspector',           'module',\n",
      "      'net',                 'os',                  'path',\n",
      "      'path/posix',          'path/win32',          'perf_hooks',\n",
      "      'process',             'punycode',            'querystring',\n",
      "      'readline',            'readline/promises',   'repl',\n",
      "      'stream',              'stream/consumers',    'stream/promises',\n",
      "      'stream/web',          'string_decoder',      'sys',\n",
      "      'timers',              'timers/promises',     'tls',\n",
      "      'trace_events',        'tty',                 'url',\n",
      "      'util',                'util/types',          'v8',\n",
      "      'vm',                  'worker_threads',      'zlib'\n",
      "    ],\n",
      "    _cache: [Object: null prototype] {},\n",
      "    _pathCache: [Object: null prototype] {},\n",
      "    _extensions: [Object: null prototype] {\n",
      "      '.js': [Function (anonymous)],\n",
      "      '.json': [Function (anonymous)],\n",
      "      '.node': [Function (anonymous)]\n",
      "    },\n",
      "    globalPaths: [\n",
      "      'C:\\\\Users\\\\White House\\\\.node_modules',\n",
      "      'C:\\\\Users\\\\White House\\\\.node_libraries',\n",
      "      'C:\\\\Users\\\\White House\\\\anaconda3\\\\lib\\\\node'\n",
      "    ],\n",
      "    _debug: [Function: deprecated],\n",
      "    _findPath: [Function (anonymous)],\n",
      "    _nodeModulePaths: [Function (anonymous)],\n",
      "    _resolveLookupPaths: [Function (anonymous)],\n",
      "    _load: [Function (anonymous)],\n",
      "    _resolveFilename: [Function (anonymous)],\n",
      "    createRequire: [Function: createRequire],\n",
      "    _initPaths: [Function (anonymous)],\n",
      "    _preloadModules: [Function (anonymous)],\n",
      "    syncBuiltinESMExports: [Function: syncBuiltinESMExports],\n",
      "    isBuiltin: [Function: isBuiltin],\n",
      "    Module: [Circular *2],\n",
      "    runMain: [Function: executeUserEntryPoint],\n",
      "    findSourceMap: [Function: findSourceMap],\n",
      "    SourceMap: [class SourceMap]\n",
      "  },\n",
      "  exports: {},\n",
      "  __dirname: '.',\n",
      "  require: [Function: require] {\n",
      "    resolve: [Function: resolve] { paths: [Function: paths] },\n",
      "    main: undefined,\n",
      "    extensions: [Object: null prototype] {\n",
      "      '.js': [Function (anonymous)],\n",
      "      '.json': [Function (anonymous)],\n",
      "      '.node': [Function (anonymous)]\n",
      "    },\n",
      "    cache: [Object: null prototype] {}\n",
      "  },\n",
      "  '$$mimer$$': [Function: defaultMimer],\n",
      "  '$$done$$': [Function: bound bound done],\n",
      "  kit: {\n",
      "    wheels: '4',\n",
      "    color: 'black',\n",
      "    make: 'Pontiac',\n",
      "    model: 'Thunderbird',\n",
      "    year: 1981,\n",
      "    number: null\n",
      "  },\n",
      "  createObj: [Function: createObj],\n",
      "  returnHello: [Function: returnHello],\n",
      "  implicitObj: [Function: implicitObj],\n",
      "  thisObject: {\n",
      "    firstName: 'Chris',\n",
      "    lastName: 'Rock',\n",
      "    fullName: [Function: fullName]\n",
      "  },\n",
      "  console: Console [console] {\n",
      "    log: [Function: log],\n",
      "    warn: [Function: warn],\n",
      "    dir: [Function: dir],\n",
      "    time: [Function: time],\n",
      "    timeEnd: [Function: timeEnd],\n",
      "    timeLog: [Function: timeLog],\n",
      "    trace: [Function: trace],\n",
      "    assert: [Function: assert],\n",
      "    clear: [Function: clear],\n",
      "    count: [Function: count],\n",
      "    countReset: [Function: countReset],\n",
      "    group: [Function: group],\n",
      "    groupEnd: [Function: groupEnd],\n",
      "    table: [Function: table],\n",
      "    debug: [Function: debug],\n",
      "    info: [Function: info],\n",
      "    dirxml: [Function: dirxml],\n",
      "    error: [Function: error],\n",
      "    groupCollapsed: [Function: groupCollapsed],\n",
      "    Console: [Function: Console]\n",
      "  },\n",
      "  '$$': [Object: null prototype] {\n",
      "    async: [Function: bound async],\n",
      "    done: [Function: bound done],\n",
      "    sendResult: [Function: bound ],\n",
      "    sendError: [Function: bound ],\n",
      "    mime: [Function: bound ],\n",
      "    text: [Function: bound ],\n",
      "    html: [Function: bound ],\n",
      "    svg: [Function: bound ],\n",
      "    png: [Function: bound ],\n",
      "    jpeg: [Function: bound ],\n",
      "    json: [Function: bound ],\n",
      "    input: [Function: bound input],\n",
      "    display: [Function: bound createDisplay],\n",
      "    clear: [Function: bound clear]\n",
      "  }\n",
      "}\n"
     ]
    }
   ],
   "source": [
    "console.log(this)"
   ]
  },
  {
   "cell_type": "code",
   "execution_count": 16,
   "id": "9b957718",
   "metadata": {
    "scrolled": true
   },
   "outputs": [
    {
     "name": "stdout",
     "output_type": "stream",
     "text": [
      "Outside of function: <ref *1> Object [global] {\n",
      "  global: [Circular *1],\n",
      "  queueMicrotask: [Function: queueMicrotask],\n",
      "  clearImmediate: [Function: clearImmediate],\n",
      "  setImmediate: [Function: setImmediate] {\n",
      "    [Symbol(nodejs.util.promisify.custom)]: [Getter]\n",
      "  },\n",
      "  structuredClone: [Function: structuredClone],\n",
      "  clearInterval: [Function: clearInterval],\n",
      "  clearTimeout: [Function: clearTimeout],\n",
      "  setInterval: [Function: setInterval],\n",
      "  setTimeout: [Function: setTimeout] {\n",
      "    [Symbol(nodejs.util.promisify.custom)]: [Getter]\n",
      "  },\n",
      "  atob: [Function: atob],\n",
      "  btoa: [Function: btoa],\n",
      "  performance: Performance {\n",
      "    nodeTiming: PerformanceNodeTiming {\n",
      "      name: 'node',\n",
      "      entryType: 'node',\n",
      "      startTime: 0,\n",
      "      duration: 9065389.01910001,\n",
      "      nodeStart: 2.8537999987602234,\n",
      "      v8Start: 6.759999990463257,\n",
      "      bootstrapComplete: 41.126399993896484,\n",
      "      environment: 15.952700018882751,\n",
      "      loopStart: 45.99540001153946,\n",
      "      loopExit: -1,\n",
      "      idleTime: 9065289.6763\n",
      "    },\n",
      "    timeOrigin: 1698847160143.752\n",
      "  },\n",
      "  fetch: [AsyncFunction: fetch],\n",
      "  __filename: '[eval]',\n",
      "  module: <ref *2> [Function: Module] {\n",
      "    builtinModules: [\n",
      "      '_http_agent',         '_http_client',        '_http_common',\n",
      "      '_http_incoming',      '_http_outgoing',      '_http_server',\n",
      "      '_stream_duplex',      '_stream_passthrough', '_stream_readable',\n",
      "      '_stream_transform',   '_stream_wrap',        '_stream_writable',\n",
      "      '_tls_common',         '_tls_wrap',           'assert',\n",
      "      'assert/strict',       'async_hooks',         'buffer',\n",
      "      'child_process',       'cluster',             'console',\n",
      "      'constants',           'crypto',              'dgram',\n",
      "      'diagnostics_channel', 'dns',                 'dns/promises',\n",
      "      'domain',              'events',              'fs',\n",
      "      'fs/promises',         'http',                'http2',\n",
      "      'https',               'inspector',           'module',\n",
      "      'net',                 'os',                  'path',\n",
      "      'path/posix',          'path/win32',          'perf_hooks',\n",
      "      'process',             'punycode',            'querystring',\n",
      "      'readline',            'readline/promises',   'repl',\n",
      "      'stream',              'stream/consumers',    'stream/promises',\n",
      "      'stream/web',          'string_decoder',      'sys',\n",
      "      'timers',              'timers/promises',     'tls',\n",
      "      'trace_events',        'tty',                 'url',\n",
      "      'util',                'util/types',          'v8',\n",
      "      'vm',                  'worker_threads',      'zlib'\n",
      "    ],\n",
      "    _cache: [Object: null prototype] {},\n",
      "    _pathCache: [Object: null prototype] {},\n",
      "    _extensions: [Object: null prototype] {\n",
      "      '.js': [Function (anonymous)],\n",
      "      '.json': [Function (anonymous)],\n",
      "      '.node': [Function (anonymous)]\n",
      "    },\n",
      "    globalPaths: [\n",
      "      'C:\\\\Users\\\\White House\\\\.node_modules',\n",
      "      'C:\\\\Users\\\\White House\\\\.node_libraries',\n",
      "      'C:\\\\Users\\\\White House\\\\anaconda3\\\\lib\\\\node'\n",
      "    ],\n",
      "    _debug: [Function: deprecated],\n",
      "    _findPath: [Function (anonymous)],\n",
      "    _nodeModulePaths: [Function (anonymous)],\n",
      "    _resolveLookupPaths: [Function (anonymous)],\n",
      "    _load: [Function (anonymous)],\n",
      "    _resolveFilename: [Function (anonymous)],\n",
      "    createRequire: [Function: createRequire],\n",
      "    _initPaths: [Function (anonymous)],\n",
      "    _preloadModules: [Function (anonymous)],\n",
      "    syncBuiltinESMExports: [Function: syncBuiltinESMExports],\n",
      "    isBuiltin: [Function: isBuiltin],\n",
      "    Module: [Circular *2],\n",
      "    runMain: [Function: executeUserEntryPoint],\n",
      "    findSourceMap: [Function: findSourceMap],\n",
      "    SourceMap: [class SourceMap]\n",
      "  },\n",
      "  exports: {},\n",
      "  __dirname: '.',\n",
      "  require: [Function: require] {\n",
      "    resolve: [Function: resolve] { paths: [Function: paths] },\n",
      "    main: undefined,\n",
      "    extensions: [Object: null prototype] {\n",
      "      '.js': [Function (anonymous)],\n",
      "      '.json': [Function (anonymous)],\n",
      "      '.node': [Function (anonymous)]\n",
      "    },\n",
      "    cache: [Object: null prototype] {}\n",
      "  },\n",
      "  '$$mimer$$': [Function: defaultMimer],\n",
      "  '$$done$$': [Function: bound bound done],\n",
      "  kit: {\n",
      "    wheels: '4',\n",
      "    color: 'black',\n",
      "    make: 'Pontiac',\n",
      "    model: 'Thunderbird',\n",
      "    year: 1981,\n",
      "    number: null\n",
      "  },\n",
      "  createObj: [Function: createObj],\n",
      "  returnHello: [Function: returnHello],\n",
      "  implicitObj: [Function: implicitObj],\n",
      "  thisObject: {\n",
      "    firstName: 'Chris',\n",
      "    lastName: 'Rock',\n",
      "    fullName: [Function: fullName]\n",
      "  },\n",
      "  console: Console [console] {\n",
      "    log: [Function: log],\n",
      "    warn: [Function: warn],\n",
      "    dir: [Function: dir],\n",
      "    time: [Function: time],\n",
      "    timeEnd: [Function: timeEnd],\n",
      "    timeLog: [Function: timeLog],\n",
      "    trace: [Function: trace],\n",
      "    assert: [Function: assert],\n",
      "    clear: [Function: clear],\n",
      "    count: [Function: count],\n",
      "    countReset: [Function: countReset],\n",
      "    group: [Function: group],\n",
      "    groupEnd: [Function: groupEnd],\n",
      "    table: [Function: table],\n",
      "    debug: [Function: debug],\n",
      "    info: [Function: info],\n",
      "    dirxml: [Function: dirxml],\n",
      "    error: [Function: error],\n",
      "    groupCollapsed: [Function: groupCollapsed],\n",
      "    Console: [Function: Console]\n",
      "  },\n",
      "  '$$': [Object: null prototype] {\n",
      "    async: [Function: bound async],\n",
      "    done: [Function: bound done],\n",
      "    sendResult: [Function: bound ],\n",
      "    sendError: [Function: bound ],\n",
      "    mime: [Function: bound ],\n",
      "    text: [Function: bound ],\n",
      "    html: [Function: bound ],\n",
      "    svg: [Function: bound ],\n",
      "    png: [Function: bound ],\n",
      "    jpeg: [Function: bound ],\n",
      "    json: [Function: bound ],\n",
      "    input: [Function: bound input],\n",
      "    display: [Function: bound createDisplay],\n",
      "    clear: [Function: bound clear]\n",
      "  }\n",
      "}\n",
      "--------------------------------------------------------------------------------\n",
      "Regular Function: {\n",
      "  getThisReg: [Function: getThisReg],\n",
      "  getThisArrow: [Function: getThisArrow]\n",
      "}\n",
      "--------------------------------------------------------------------------------\n",
      "Arrow Function: <ref *1> Object [global] {\n",
      "  global: [Circular *1],\n",
      "  queueMicrotask: [Function: queueMicrotask],\n",
      "  clearImmediate: [Function: clearImmediate],\n",
      "  setImmediate: [Function: setImmediate] {\n",
      "    [Symbol(nodejs.util.promisify.custom)]: [Getter]\n",
      "  },\n",
      "  structuredClone: [Function: structuredClone],\n",
      "  clearInterval: [Function: clearInterval],\n",
      "  clearTimeout: [Function: clearTimeout],\n",
      "  setInterval: [Function: setInterval],\n",
      "  setTimeout: [Function: setTimeout] {\n",
      "    [Symbol(nodejs.util.promisify.custom)]: [Getter]\n",
      "  },\n",
      "  atob: [Function: atob],\n",
      "  btoa: [Function: btoa],\n",
      "  performance: Performance {\n",
      "    nodeTiming: PerformanceNodeTiming {\n",
      "      name: 'node',\n",
      "      entryType: 'node',\n",
      "      startTime: 0,\n",
      "      duration: 9065391.490100026,\n",
      "      nodeStart: 2.8537999987602234,\n",
      "      v8Start: 6.759999990463257,\n",
      "      bootstrapComplete: 41.126399993896484,\n",
      "      environment: 15.952700018882751,\n",
      "      loopStart: 45.99540001153946,\n",
      "      loopExit: -1,\n",
      "      idleTime: 9065289.6763\n",
      "    },\n",
      "    timeOrigin: 1698847160143.752\n",
      "  },\n",
      "  fetch: [AsyncFunction: fetch],\n",
      "  __filename: '[eval]',\n",
      "  module: <ref *2> [Function: Module] {\n",
      "    builtinModules: [\n",
      "      '_http_agent',         '_http_client',        '_http_common',\n",
      "      '_http_incoming',      '_http_outgoing',      '_http_server',\n",
      "      '_stream_duplex',      '_stream_passthrough', '_stream_readable',\n",
      "      '_stream_transform',   '_stream_wrap',        '_stream_writable',\n",
      "      '_tls_common',         '_tls_wrap',           'assert',\n",
      "      'assert/strict',       'async_hooks',         'buffer',\n",
      "      'child_process',       'cluster',             'console',\n",
      "      'constants',           'crypto',              'dgram',\n",
      "      'diagnostics_channel', 'dns',                 'dns/promises',\n",
      "      'domain',              'events',              'fs',\n",
      "      'fs/promises',         'http',                'http2',\n",
      "      'https',               'inspector',           'module',\n",
      "      'net',                 'os',                  'path',\n",
      "      'path/posix',          'path/win32',          'perf_hooks',\n",
      "      'process',             'punycode',            'querystring',\n",
      "      'readline',            'readline/promises',   'repl',\n",
      "      'stream',              'stream/consumers',    'stream/promises',\n",
      "      'stream/web',          'string_decoder',      'sys',\n",
      "      'timers',              'timers/promises',     'tls',\n",
      "      'trace_events',        'tty',                 'url',\n",
      "      'util',                'util/types',          'v8',\n",
      "      'vm',                  'worker_threads',      'zlib'\n",
      "    ],\n",
      "    _cache: [Object: null prototype] {},\n",
      "    _pathCache: [Object: null prototype] {},\n",
      "    _extensions: [Object: null prototype] {\n",
      "      '.js': [Function (anonymous)],\n",
      "      '.json': [Function (anonymous)],\n",
      "      '.node': [Function (anonymous)]\n",
      "    },\n",
      "    globalPaths: [\n",
      "      'C:\\\\Users\\\\White House\\\\.node_modules',\n",
      "      'C:\\\\Users\\\\White House\\\\.node_libraries',\n",
      "      'C:\\\\Users\\\\White House\\\\anaconda3\\\\lib\\\\node'\n",
      "    ],\n",
      "    _debug: [Function: deprecated],\n",
      "    _findPath: [Function (anonymous)],\n",
      "    _nodeModulePaths: [Function (anonymous)],\n",
      "    _resolveLookupPaths: [Function (anonymous)],\n",
      "    _load: [Function (anonymous)],\n",
      "    _resolveFilename: [Function (anonymous)],\n",
      "    createRequire: [Function: createRequire],\n",
      "    _initPaths: [Function (anonymous)],\n",
      "    _preloadModules: [Function (anonymous)],\n",
      "    syncBuiltinESMExports: [Function: syncBuiltinESMExports],\n",
      "    isBuiltin: [Function: isBuiltin],\n",
      "    Module: [Circular *2],\n",
      "    runMain: [Function: executeUserEntryPoint],\n",
      "    findSourceMap: [Function: findSourceMap],\n",
      "    SourceMap: [class SourceMap]\n",
      "  },\n",
      "  exports: {},\n",
      "  __dirname: '.',\n",
      "  require: [Function: require] {\n",
      "    resolve: [Function: resolve] { paths: [Function: paths] },\n",
      "    main: undefined,\n",
      "    extensions: [Object: null prototype] {\n",
      "      '.js': [Function (anonymous)],\n",
      "      '.json': [Function (anonymous)],\n",
      "      '.node': [Function (anonymous)]\n",
      "    },\n",
      "    cache: [Object: null prototype] {}\n",
      "  },\n",
      "  '$$mimer$$': [Function: defaultMimer],\n",
      "  '$$done$$': [Function: bound bound done],\n",
      "  kit: {\n",
      "    wheels: '4',\n",
      "    color: 'black',\n",
      "    make: 'Pontiac',\n",
      "    model: 'Thunderbird',\n",
      "    year: 1981,\n",
      "    number: null\n",
      "  },\n",
      "  createObj: [Function: createObj],\n",
      "  returnHello: [Function: returnHello],\n",
      "  implicitObj: [Function: implicitObj],\n",
      "  thisObject: {\n",
      "    firstName: 'Chris',\n",
      "    lastName: 'Rock',\n",
      "    fullName: [Function: fullName]\n",
      "  },\n",
      "  console: Console [console] {\n",
      "    log: [Function: log],\n",
      "    warn: [Function: warn],\n",
      "    dir: [Function: dir],\n",
      "    time: [Function: time],\n",
      "    timeEnd: [Function: timeEnd],\n",
      "    timeLog: [Function: timeLog],\n",
      "    trace: [Function: trace],\n",
      "    assert: [Function: assert],\n",
      "    clear: [Function: clear],\n",
      "    count: [Function: count],\n",
      "    countReset: [Function: countReset],\n",
      "    group: [Function: group],\n",
      "    groupEnd: [Function: groupEnd],\n",
      "    table: [Function: table],\n",
      "    debug: [Function: debug],\n",
      "    info: [Function: info],\n",
      "    dirxml: [Function: dirxml],\n",
      "    error: [Function: error],\n",
      "    groupCollapsed: [Function: groupCollapsed],\n",
      "    Console: [Function: Console]\n",
      "  },\n",
      "  '$$': [Object: null prototype] {\n",
      "    async: [Function: bound async],\n",
      "    done: [Function: bound done],\n",
      "    sendResult: [Function: bound ],\n",
      "    sendError: [Function: bound ],\n",
      "    mime: [Function: bound ],\n",
      "    text: [Function: bound ],\n",
      "    html: [Function: bound ],\n",
      "    svg: [Function: bound ],\n",
      "    png: [Function: bound ],\n",
      "    jpeg: [Function: bound ],\n",
      "    json: [Function: bound ],\n",
      "    input: [Function: bound input],\n",
      "    display: [Function: bound createDisplay],\n",
      "    clear: [Function: bound clear]\n",
      "  }\n",
      "}\n"
     ]
    }
   ],
   "source": [
    "console.log(\"Outside of function:\", this);\n",
    "console.log('--------------------------------------------------------------------------------')\n",
    "console.log(\"Regular Function:\", myTestObj.getThisReg());\n",
    "console.log('--------------------------------------------------------------------------------')\n",
    "\n",
    "console.log(\"Arrow Function:\", myTestObj.getThisArrow());"
   ]
  },
  {
   "cell_type": "code",
   "execution_count": 17,
   "id": "ce9a4350",
   "metadata": {},
   "outputs": [
    {
     "name": "stdout",
     "output_type": "stream",
     "text": [
      "true\n"
     ]
    }
   ],
   "source": [
    "console.log(this===myTestObj.getThisArrow())"
   ]
  },
  {
   "cell_type": "markdown",
   "id": "bea78702",
   "metadata": {},
   "source": [
    "<a id=\"typecheck\"></a>\n",
    "### Checking the type of a variable"
   ]
  },
  {
   "cell_type": "code",
   "execution_count": 18,
   "id": "b4d6830c",
   "metadata": {},
   "outputs": [],
   "source": [
    "let testArray=[10, 20, 30, 40];"
   ]
  },
  {
   "cell_type": "code",
   "execution_count": 19,
   "id": "79ab9d30",
   "metadata": {},
   "outputs": [],
   "source": [
    "let testObj={id:1, name:'Test'};"
   ]
  },
  {
   "cell_type": "code",
   "execution_count": 20,
   "id": "772809fc",
   "metadata": {},
   "outputs": [
    {
     "name": "stdout",
     "output_type": "stream",
     "text": [
      "object\n",
      "true\n",
      "true\n",
      "true\n",
      "========\n",
      "true\n",
      "true\n",
      "false\n",
      "string\n",
      "========\n",
      "object\n",
      "false\n",
      "object\n",
      "false\n",
      "true\n"
     ]
    }
   ],
   "source": [
    "console.log(typeof testArray) //object\n",
    "console.log(testArray instanceof Array) //true\n",
    "console.log(Array instanceof Object) //true\n",
    "console.log(Array.isArray(testArray)) //true\n",
    "console.log(\"========\")\n",
    "console.log(testArray instanceof Object) //true\n",
    "console.log(testObj instanceof Object)  //true\n",
    "console.log(Array.isArray(testObj)) //false\n",
    "console.log(typeof 'hello') //string\n",
    "console.log(\"========\")\n",
    "console.log(typeof {}) //object\n",
    "console.log('hello' instanceof Object) //False\n",
    "console.log(typeof null); //object\n",
    "console.log(null instanceof Object) //False\n",
    "console.log({key:1} instanceof Object)  //true\n"
   ]
  },
  {
   "cell_type": "markdown",
   "id": "cdcc5a39",
   "metadata": {},
   "source": [
    "<a id=\"proto\"></a>\n",
    "## ES5 Object Prototypes"
   ]
  },
  {
   "cell_type": "markdown",
   "id": "c9b8d3d9",
   "metadata": {},
   "source": [
    "The class keyword wasn't added to JS until ES6, and replaces the functionality we are about to talk about.  You will still see alot of ES5 prototypes in the wild, so be sure to understand what they are doing.\n",
    "\n",
    "Lets build out a JS object to be reuseable."
   ]
  },
  {
   "cell_type": "markdown",
   "id": "9c39537c",
   "metadata": {},
   "source": [
    "<a id=\"new\"></a>\n",
    "\n",
    "### new keyword"
   ]
  },
  {
   "cell_type": "markdown",
   "id": "79305a8f",
   "metadata": {},
   "source": [
    "The `new` keyword will initialize an object and return it for you.  It will also allow the use of the this keyword"
   ]
  },
  {
   "cell_type": "code",
   "execution_count": 23,
   "id": "33d4df70",
   "metadata": {},
   "outputs": [
    {
     "ename": "SyntaxError",
     "evalue": "Identifier 'testPerson' has already been declared",
     "output_type": "error",
     "traceback": [
      "evalmachine.<anonymous>:1",
      "let testPerson={};",
      "^",
      "",
      "SyntaxError: Identifier 'testPerson' has already been declared",
      "    at Script.runInThisContext (node:vm:129:12)",
      "    at Object.runInThisContext (node:vm:307:38)",
      "    at run ([eval]:1020:15)",
      "    at onRunRequest ([eval]:864:18)",
      "    at onMessage ([eval]:828:13)",
      "    at process.emit (node:events:513:28)",
      "    at emit (node:internal/child_process:937:14)",
      "    at process.processTicksAndRejections (node:internal/process/task_queues:83:21)"
     ]
    }
   ],
   "source": [
    "let testPerson={};\n",
    "testPerson.age=22;\n",
    "testPerson.realName='John';\n",
    "\n",
    "testPerson.jump=function(){console.log(this.realName+' just jumped')};\n",
    "testPerson.squat=function(){console.log(this.realName+' just Squatted')};\n"
   ]
  },
  {
   "cell_type": "code",
   "execution_count": 24,
   "id": "0cead021",
   "metadata": {},
   "outputs": [
    {
     "name": "stdout",
     "output_type": "stream",
     "text": [
      "Johnjust jumped\n",
      "Johnjust Squatted\n"
     ]
    }
   ],
   "source": [
    "testPerson.jump()\n",
    "testPerson.squat()"
   ]
  },
  {
   "cell_type": "code",
   "execution_count": 1,
   "id": "a04241d6",
   "metadata": {},
   "outputs": [],
   "source": [
    "let createPerson=function(name, age){\n",
    "    let person={}\n",
    "    testPerson.age=22;\n",
    "    testPerson.name='John';\n",
    "\n",
    "    testPerson.jump=function(){console.log(this.realName+' just jumped')};\n",
    "    testPerson.squat=function(){console.log(this.realName+' just Squatted')};\n",
    "    return person\n",
    "}"
   ]
  },
  {
   "cell_type": "code",
   "execution_count": 4,
   "id": "f9e1f7de",
   "metadata": {},
   "outputs": [
    {
     "ename": "ReferenceError",
     "evalue": "testPerson is not defined",
     "output_type": "error",
     "traceback": [
      "evalmachine.<anonymous>:3",
      "    testPerson.age=22;",
      "    ^",
      "",
      "ReferenceError: testPerson is not defined",
      "    at createPerson (evalmachine.<anonymous>:3:5)",
      "    at evalmachine.<anonymous>:2:8",
      "    at Script.runInThisContext (node:vm:129:12)",
      "    at Object.runInThisContext (node:vm:307:38)",
      "    at run ([eval]:1020:15)",
      "    at onRunRequest ([eval]:864:18)",
      "    at onMessage ([eval]:828:13)",
      "    at process.emit (node:events:513:28)",
      "    at emit (node:internal/child_process:937:14)",
      "    at process.processTicksAndRejections (node:internal/process/task_queues:83:21)"
     ]
    }
   ],
   "source": [
    "let p1=createPerson('Mal', 33);\n",
    "let p2=createPerson('Dave', 44)"
   ]
  },
  {
   "cell_type": "code",
   "execution_count": 5,
   "id": "e29d3c15",
   "metadata": {},
   "outputs": [
    {
     "ename": "ReferenceError",
     "evalue": "p1 is not defined",
     "output_type": "error",
     "traceback": [
      "evalmachine.<anonymous>:1",
      "console.log(p1);",
      "            ^",
      "",
      "ReferenceError: p1 is not defined",
      "    at evalmachine.<anonymous>:1:13",
      "    at Script.runInThisContext (node:vm:129:12)",
      "    at Object.runInThisContext (node:vm:307:38)",
      "    at run ([eval]:1020:15)",
      "    at onRunRequest ([eval]:864:18)",
      "    at onMessage ([eval]:828:13)",
      "    at process.emit (node:events:513:28)",
      "    at emit (node:internal/child_process:937:14)",
      "    at process.processTicksAndRejections (node:internal/process/task_queues:83:21)"
     ]
    }
   ],
   "source": [
    "console.log(p1);\n",
    "console.log(p2)"
   ]
  },
  {
   "cell_type": "code",
   "execution_count": 6,
   "id": "fa508df1",
   "metadata": {},
   "outputs": [],
   "source": [
    "let personA=function(name, age){\n",
    "    personA.age=age;\n",
    "    personA.name=name;\n",
    "\n",
    "    personA.jump=function(){console.log(this.realName+' just jumped')};\n",
    "    personA.squat=function(){console.log(this.realName+' just Squatted')};\n",
    "    return personA\n",
    "}"
   ]
  },
  {
   "cell_type": "code",
   "execution_count": 8,
   "id": "617a6674",
   "metadata": {},
   "outputs": [
    {
     "ename": "SyntaxError",
     "evalue": "Identifier 'p4' has already been declared",
     "output_type": "error",
     "traceback": [
      "evalmachine.<anonymous>:1",
      "let p4=personA('Alan', 55);",
      "^",
      "",
      "SyntaxError: Identifier 'p4' has already been declared",
      "    at Script.runInThisContext (node:vm:129:12)",
      "    at Object.runInThisContext (node:vm:307:38)",
      "    at run ([eval]:1020:15)",
      "    at onRunRequest ([eval]:864:18)",
      "    at onMessage ([eval]:828:13)",
      "    at process.emit (node:events:513:28)",
      "    at emit (node:internal/child_process:937:14)",
      "    at process.processTicksAndRejections (node:internal/process/task_queues:83:21)"
     ]
    }
   ],
   "source": [
    "let p4=personA('Alan', 55);\n",
    "console.log(p4)"
   ]
  },
  {
   "cell_type": "code",
   "execution_count": 9,
   "id": "47139e83",
   "metadata": {},
   "outputs": [],
   "source": [
    "let personB=function(name, age){\n",
    "    this.age=age;\n",
    "    this.realName=name;\n",
    "\n",
    "    this.jump=function(){console.log(this.realName+' just jumped')};\n",
    "    this.squat=function(){console.log(this.realName+' just Squatted')};\n",
    "}"
   ]
  },
  {
   "cell_type": "code",
   "execution_count": 10,
   "id": "daa84bbd",
   "metadata": {},
   "outputs": [
    {
     "name": "stdout",
     "output_type": "stream",
     "text": [
      "personB {\n",
      "  age: 23,\n",
      "  realName: 'Ellen',\n",
      "  jump: [Function (anonymous)],\n",
      "  squat: [Function (anonymous)]\n",
      "}\n",
      "Ellen just jumped\n",
      "Ellen just Squatted\n"
     ]
    }
   ],
   "source": [
    "let p5=new personB('Ellen', 23);\n",
    "console.log(p5)\n",
    "p5.jump()\n",
    "p5.squat()"
   ]
  },
  {
   "cell_type": "code",
   "execution_count": 11,
   "id": "186ad311",
   "metadata": {},
   "outputs": [
    {
     "ename": "ReferenceError",
     "evalue": "p123 is not defined",
     "output_type": "error",
     "traceback": [
      "evalmachine.<anonymous>:2",
      "console.log(p123)",
      "            ^",
      "",
      "ReferenceError: p123 is not defined",
      "    at evalmachine.<anonymous>:2:13",
      "    at Script.runInThisContext (node:vm:129:12)",
      "    at Object.runInThisContext (node:vm:307:38)",
      "    at run ([eval]:1020:15)",
      "    at onRunRequest ([eval]:864:18)",
      "    at onMessage ([eval]:828:13)",
      "    at process.emit (node:events:513:28)",
      "    at emit (node:internal/child_process:937:14)",
      "    at process.processTicksAndRejections (node:internal/process/task_queues:83:21)"
     ]
    }
   ],
   "source": [
    "let p321=new personB('Brad', 88);"
   ]
  },
  {
   "cell_type": "code",
   "execution_count": null,
   "id": "6d80a5d5",
   "metadata": {},
   "outputs": [],
   "source": []
  },
  {
   "cell_type": "markdown",
   "id": "108c069f",
   "metadata": {},
   "source": [
    "#### with the new keyword"
   ]
  },
  {
   "cell_type": "code",
   "execution_count": null,
   "id": "53933409",
   "metadata": {},
   "outputs": [],
   "source": []
  },
  {
   "cell_type": "code",
   "execution_count": null,
   "id": "748884b4",
   "metadata": {},
   "outputs": [],
   "source": []
  },
  {
   "cell_type": "code",
   "execution_count": null,
   "id": "3fc4cb2b",
   "metadata": {},
   "outputs": [],
   "source": []
  },
  {
   "cell_type": "code",
   "execution_count": null,
   "id": "6cafae2d",
   "metadata": {
    "scrolled": false
   },
   "outputs": [],
   "source": []
  },
  {
   "cell_type": "code",
   "execution_count": null,
   "id": "8e2e1f03",
   "metadata": {},
   "outputs": [],
   "source": []
  },
  {
   "cell_type": "code",
   "execution_count": null,
   "id": "b970fa7e",
   "metadata": {
    "scrolled": true
   },
   "outputs": [],
   "source": []
  },
  {
   "cell_type": "markdown",
   "id": "d2a13525",
   "metadata": {},
   "source": [
    "#### Why did I give the name property realName not name?"
   ]
  },
  {
   "cell_type": "markdown",
   "id": "6204c37c",
   "metadata": {},
   "source": [
    "When working with a function the name property is already assigned to the name of the function"
   ]
  },
  {
   "cell_type": "code",
   "execution_count": 12,
   "id": "ecf3fa87",
   "metadata": {},
   "outputs": [],
   "source": [
    "function myWonderfullyNamedFunction(){return}"
   ]
  },
  {
   "cell_type": "code",
   "execution_count": 13,
   "id": "d26f0106",
   "metadata": {},
   "outputs": [
    {
     "name": "stdout",
     "output_type": "stream",
     "text": [
      "myWonderfullyNamedFunction\n"
     ]
    }
   ],
   "source": [
    "console.log(myWonderfullyNamedFunction.name)"
   ]
  },
  {
   "cell_type": "code",
   "execution_count": 16,
   "id": "719f1908",
   "metadata": {},
   "outputs": [
    {
     "data": {
      "text/plain": [
       "[Function: personc]"
      ]
     },
     "execution_count": 16,
     "metadata": {},
     "output_type": "execute_result"
    }
   ],
   "source": [
    " personc=function(name, age){\n",
    "    personC.age=age;\n",
    "    personC.name=name;\n",
    "    personC.printName=function(){console.log(personC.name)}\n",
    "    return personC\n",
    "}"
   ]
  },
  {
   "cell_type": "code",
   "execution_count": 18,
   "id": "945b8674",
   "metadata": {},
   "outputs": [
    {
     "ename": "SyntaxError",
     "evalue": "Identifier 'testPersonC' has already been declared",
     "output_type": "error",
     "traceback": [
      "evalmachine.<anonymous>:1",
      "let testPersonC=new personC('Bill', 66);",
      "^",
      "",
      "SyntaxError: Identifier 'testPersonC' has already been declared",
      "    at Script.runInThisContext (node:vm:129:12)",
      "    at Object.runInThisContext (node:vm:307:38)",
      "    at run ([eval]:1020:15)",
      "    at onRunRequest ([eval]:864:18)",
      "    at onMessage ([eval]:828:13)",
      "    at process.emit (node:events:513:28)",
      "    at emit (node:internal/child_process:937:14)",
      "    at process.processTicksAndRejections (node:internal/process/task_queues:83:21)"
     ]
    }
   ],
   "source": [
    "let testPersonC=new personC('Bill', 66);\n"
   ]
  },
  {
   "cell_type": "code",
   "execution_count": 19,
   "id": "fc4e7b5e",
   "metadata": {},
   "outputs": [
    {
     "ename": "ReferenceError",
     "evalue": "testPersonC is not defined",
     "output_type": "error",
     "traceback": [
      "evalmachine.<anonymous>:1",
      "testPersonC.printName()",
      "^",
      "",
      "ReferenceError: testPersonC is not defined",
      "    at evalmachine.<anonymous>:1:1",
      "    at Script.runInThisContext (node:vm:129:12)",
      "    at Object.runInThisContext (node:vm:307:38)",
      "    at run ([eval]:1020:15)",
      "    at onRunRequest ([eval]:864:18)",
      "    at onMessage ([eval]:828:13)",
      "    at process.emit (node:events:513:28)",
      "    at emit (node:internal/child_process:937:14)",
      "    at process.processTicksAndRejections (node:internal/process/task_queues:83:21)"
     ]
    }
   ],
   "source": [
    "testPersonC.printName()"
   ]
  },
  {
   "cell_type": "markdown",
   "id": "541ef00a",
   "metadata": {},
   "source": [
    "The above method works fine, but it has an issue. Every time I make a new person, I have to save all the person's methods to memory. We can define a prototype for all objects to share to prevent wasting memory space. These are stored in memory once, and use the this keyword to find the correct references. This saves tons of memory space, and prototypes should be used with ES5 objects when declaring many instances of the same object."
   ]
  },
  {
   "cell_type": "code",
   "execution_count": 20,
   "id": "b64eaab3",
   "metadata": {},
   "outputs": [],
   "source": [
    "let sally=new personB('Sally', 34);\n",
    "let frank=new personB('Frank', 43);"
   ]
  },
  {
   "cell_type": "code",
   "execution_count": 21,
   "id": "7caf484a",
   "metadata": {},
   "outputs": [
    {
     "name": "stdout",
     "output_type": "stream",
     "text": [
      "Sally just jumped\n"
     ]
    }
   ],
   "source": [
    "sally.jump()"
   ]
  },
  {
   "cell_type": "code",
   "execution_count": 22,
   "id": "d2cc6153",
   "metadata": {},
   "outputs": [
    {
     "name": "stdout",
     "output_type": "stream",
     "text": [
      "false\n"
     ]
    }
   ],
   "source": [
    "console.log(sally.jump===frank.jump)"
   ]
  },
  {
   "cell_type": "code",
   "execution_count": 23,
   "id": "da64146f",
   "metadata": {},
   "outputs": [],
   "source": [
    "let personMethods={\n",
    "    jump: function(){console.log(this.realName+' is jumping')},\n",
    "    squat: function(){console.log(this.realName+' is squatting')}\n",
    "}\n",
    "\n",
    "let personD=function(name, age){\n",
    "    this.realName=name;\n",
    "    this.age=age;\n",
    "    this.jump=personMethods.jump;\n",
    "    this.squat=personMethods.squat;\n",
    "}"
   ]
  },
  {
   "cell_type": "code",
   "execution_count": 24,
   "id": "8efbbdb1",
   "metadata": {},
   "outputs": [],
   "source": [
    "let gabe1=new personD('Gabe', 39);\n",
    "let mike1=new personD('Mike', 34);"
   ]
  },
  {
   "cell_type": "code",
   "execution_count": 25,
   "id": "ed82e1cd",
   "metadata": {},
   "outputs": [
    {
     "name": "stdout",
     "output_type": "stream",
     "text": [
      "Gabe is jumping\n"
     ]
    }
   ],
   "source": [
    "gabe1.jump()"
   ]
  },
  {
   "cell_type": "code",
   "execution_count": 26,
   "id": "69254da1",
   "metadata": {},
   "outputs": [
    {
     "name": "stdout",
     "output_type": "stream",
     "text": [
      "Mike is squatting\n"
     ]
    }
   ],
   "source": [
    "mike1.squat()"
   ]
  },
  {
   "cell_type": "code",
   "execution_count": 27,
   "id": "e2b941d8",
   "metadata": {},
   "outputs": [
    {
     "name": "stdout",
     "output_type": "stream",
     "text": [
      "{}\n"
     ]
    }
   ],
   "source": [
    "function doNothing(){};\n",
    "console.log(doNothing.prototype)"
   ]
  },
  {
   "cell_type": "code",
   "execution_count": 28,
   "id": "a47dbaf4",
   "metadata": {},
   "outputs": [
    {
     "data": {
      "text/plain": [
       "'Seamus'"
      ]
     },
     "execution_count": 28,
     "metadata": {},
     "output_type": "execute_result"
    }
   ],
   "source": [
    "let parent={\n",
    "    firstName:'Margaret',\n",
    "    lastName:'McMurphy',\n",
    "    heritage:'Irish'\n",
    "}\n",
    "let child=Object.create(parent);\n",
    "child.firstName='Seamus';"
   ]
  },
  {
   "cell_type": "code",
   "execution_count": 29,
   "id": "deedaf01",
   "metadata": {},
   "outputs": [
    {
     "name": "stdout",
     "output_type": "stream",
     "text": [
      "Seamus\n"
     ]
    }
   ],
   "source": [
    "console.log(child.firstName)"
   ]
  },
  {
   "cell_type": "code",
   "execution_count": 33,
   "id": "b6e3c450",
   "metadata": {},
   "outputs": [
    {
     "ename": "SyntaxError",
     "evalue": "Unexpected identifier",
     "output_type": "error",
     "traceback": [
      "evalmachine.<anonymous>:1",
      "val personE=function (name, age){",
      "    ^^^^^^^",
      "",
      "SyntaxError: Unexpected identifier",
      "    at new Script (node:vm:100:7)",
      "    at createScript (node:vm:259:10)",
      "    at Object.runInThisContext (node:vm:307:10)",
      "    at run ([eval]:1020:15)",
      "    at onRunRequest ([eval]:864:18)",
      "    at onMessage ([eval]:828:13)",
      "    at process.emit (node:events:513:28)",
      "    at emit (node:internal/child_process:937:14)",
      "    at process.processTicksAndRejections (node:internal/process/task_queues:83:21)"
     ]
    }
   ],
   "source": [
    "let personE=function (name, age){\n",
    "    this.age=age,\n",
    "    this.realName=name,\n",
    "}\n",
    "personE.prototype(jump)=function(){console.log(this.realName+' is jumping');\n",
    "personE.prototype(squat)=function(){console.log(this.realName+' is squattng');"
   ]
  },
  {
   "cell_type": "markdown",
   "id": "8ba41b0a",
   "metadata": {},
   "source": [
    "#### Possible but bad practice"
   ]
  },
  {
   "cell_type": "markdown",
   "id": "45212317",
   "metadata": {},
   "source": [
    "You can modify existing built in prototypes at anytime, but this is bad practice because it leads to confusion, and unforeseen side effects"
   ]
  },
  {
   "cell_type": "code",
   "execution_count": null,
   "id": "701531c9",
   "metadata": {},
   "outputs": [],
   "source": [
    "String.prototype.toTitleCase=function() {\n",
    "  str = this.toLowerCase().split(' ');\n",
    "  for (var i = 0; i < str.length; i++) {\n",
    "    str[i] = str[i].charAt(0).toUpperCase() + str[i].slice(1); \n",
    "  }\n",
    "  return str.join(' ');\n",
    "}"
   ]
  },
  {
   "cell_type": "code",
   "execution_count": null,
   "id": "e8469a45",
   "metadata": {
    "scrolled": true
   },
   "outputs": [],
   "source": [
    "\"hello you kind human\".toTitleCase()"
   ]
  },
  {
   "cell_type": "code",
   "execution_count": null,
   "id": "cc7eec53",
   "metadata": {},
   "outputs": [],
   "source": []
  },
  {
   "cell_type": "markdown",
   "id": "3f4bc649",
   "metadata": {},
   "source": [
    "<a id=\"class\"></a>\n",
    "\n",
    "## ES 6 Classes/OOP"
   ]
  },
  {
   "cell_type": "markdown",
   "id": "13dda6c6",
   "metadata": {},
   "source": [
    "In ES6, JavaScript finally added classes, allowing traditional Object Oreinted Design.\n",
    "\n",
    "\n",
    "In python we define a constructor like:\n",
    "```\n",
    "    def __init__(self, params):\n",
    "        self.param=param\n",
    "```\n",
    "In JS it would look like:\n",
    "```\n",
    "    constructor(params){\n",
    "        this.params=params\n",
    "    }\n",
    "```\n",
    "\n",
    "Like python, Class names are written in PascalCase.\n",
    "\n",
    "The keyword `new` is required when initializing an instance as it is what runs the constructor function.\n",
    "\n",
    "<strong>Note:</strong> Methods need no function keyword."
   ]
  },
  {
   "cell_type": "code",
   "execution_count": 34,
   "id": "ef9b476f",
   "metadata": {},
   "outputs": [],
   "source": [
    "class Person{\n",
    "    constructor(name, age){\n",
    "        this.name=name;\n",
    "        this.age=age;\n",
    "    }\n",
    "    jump(){\n",
    "        console.log(this.name+' is jumping.')\n",
    "    }\n",
    "    squat(){\n",
    "        console.log(this.name+' is squatting.')\n",
    "\n",
    "    }\n",
    "}"
   ]
  },
  {
   "cell_type": "code",
   "execution_count": 35,
   "id": "a2992b43",
   "metadata": {},
   "outputs": [],
   "source": [
    "let fred=new Person('Fred', 30)"
   ]
  },
  {
   "cell_type": "code",
   "execution_count": 36,
   "id": "661954e3",
   "metadata": {},
   "outputs": [
    {
     "name": "stdout",
     "output_type": "stream",
     "text": [
      "Person { name: 'Fred', age: 30 }\n"
     ]
    }
   ],
   "source": [
    "console.log(fred)"
   ]
  },
  {
   "cell_type": "code",
   "execution_count": 37,
   "id": "7385dfe7",
   "metadata": {},
   "outputs": [
    {
     "name": "stdout",
     "output_type": "stream",
     "text": [
      "Fred is jumping.\n"
     ]
    }
   ],
   "source": [
    "fred.jump()"
   ]
  },
  {
   "cell_type": "code",
   "execution_count": 38,
   "id": "cf7bca6c",
   "metadata": {},
   "outputs": [
    {
     "name": "stdout",
     "output_type": "stream",
     "text": [
      "Fred is squatting.\n"
     ]
    }
   ],
   "source": [
    "fred.squat()"
   ]
  },
  {
   "cell_type": "code",
   "execution_count": 39,
   "id": "16f4e67e",
   "metadata": {},
   "outputs": [],
   "source": [
    "let wilma=new Person('Wilma', 29);"
   ]
  },
  {
   "cell_type": "code",
   "execution_count": 40,
   "id": "b317d058",
   "metadata": {},
   "outputs": [
    {
     "name": "stdout",
     "output_type": "stream",
     "text": [
      "Wilma is jumping.\n",
      "Wilma is squatting.\n"
     ]
    }
   ],
   "source": [
    "wilma.jump();\n",
    "wilma.squat();"
   ]
  },
  {
   "cell_type": "markdown",
   "id": "45f6cc44",
   "metadata": {},
   "source": [
    "<a id=\"inherit\"></a>\n",
    "\n",
    "### Inheritance "
   ]
  },
  {
   "cell_type": "markdown",
   "id": "0a087057",
   "metadata": {},
   "source": [
    "In python, to inherit (or extend) a class, we did something like `class Baby(Human)`. In JS, we use the keyword `extends` ie `class Baby extends Human`.\n",
    "\n",
    "A Parent Class is often also called a super class.\n",
    "\n",
    "In a child class the keyword super represents the parent class.  \n",
    "\n",
    "Often it is use to invoke the parent constructor.\n",
    "just like in python when we did:\n",
    "\n",
    "```\n",
    "super().__init__(params)\n",
    "```\n",
    "\n",
    "in JS this becomes\n",
    "\n",
    "```\n",
    "super(params)\n",
    "```\n",
    "\n",
    "<strong>Note:</strong> Giving the returnInfo to the baby class creates a method override, so now all the members of class Baby will now returnInfo in a new way, while members of the Human class will retain their original returnInfo method."
   ]
  },
  {
   "cell_type": "code",
   "execution_count": 41,
   "id": "a5252a61",
   "metadata": {},
   "outputs": [],
   "source": [
    "class Baby extends Person{\n",
    "    constructor(name, age, isWalking){\n",
    "        super(name, age);\n",
    "        this.isWalking=isWalking\n",
    "    }\n",
    "    walk(){\n",
    "        if (this.isWalking){\n",
    "            console.log('Hooray, ', this.name, ' is walking!')\n",
    "        } else {\n",
    "            console.log(this.name, ' is still crawling...')\n",
    "        }\n",
    "    }\n",
    "}"
   ]
  },
  {
   "cell_type": "code",
   "execution_count": 42,
   "id": "e32e69e2",
   "metadata": {},
   "outputs": [],
   "source": [
    "let bambam=new Baby('Bam-Bam', 2, false);"
   ]
  },
  {
   "cell_type": "code",
   "execution_count": 43,
   "id": "1583599c",
   "metadata": {},
   "outputs": [
    {
     "name": "stdout",
     "output_type": "stream",
     "text": [
      "Baby { name: 'Bam-Bam', age: 2, isWalking: false }\n"
     ]
    }
   ],
   "source": [
    "console.log(bambam)"
   ]
  },
  {
   "cell_type": "code",
   "execution_count": 44,
   "id": "3fc985f8",
   "metadata": {},
   "outputs": [
    {
     "name": "stdout",
     "output_type": "stream",
     "text": [
      "Bam-Bam  is still crawling...\n"
     ]
    }
   ],
   "source": [
    "bambam.walk()"
   ]
  },
  {
   "cell_type": "code",
   "execution_count": 45,
   "id": "b9908bb5",
   "metadata": {},
   "outputs": [
    {
     "ename": "TypeError",
     "evalue": "wilma.walk is not a function",
     "output_type": "error",
     "traceback": [
      "evalmachine.<anonymous>:1",
      "wilma.walk()",
      "      ^",
      "",
      "TypeError: wilma.walk is not a function",
      "    at evalmachine.<anonymous>:1:7",
      "    at Script.runInThisContext (node:vm:129:12)",
      "    at Object.runInThisContext (node:vm:307:38)",
      "    at run ([eval]:1020:15)",
      "    at onRunRequest ([eval]:864:18)",
      "    at onMessage ([eval]:828:13)",
      "    at process.emit (node:events:513:28)",
      "    at emit (node:internal/child_process:937:14)",
      "    at process.processTicksAndRejections (node:internal/process/task_queues:83:21)"
     ]
    }
   ],
   "source": [
    "wilma.walk()"
   ]
  },
  {
   "cell_type": "code",
   "execution_count": null,
   "id": "7eee80ff",
   "metadata": {},
   "outputs": [],
   "source": [
    "// Inheritance flows down. Human instances will not have the .walk method\n"
   ]
  },
  {
   "cell_type": "code",
   "execution_count": null,
   "id": "746cbcea",
   "metadata": {},
   "outputs": [],
   "source": []
  },
  {
   "cell_type": "markdown",
   "id": "9e41fcd2",
   "metadata": {},
   "source": [
    "<a id=\"super\"></a>\n",
    "\n",
    "### super keyword"
   ]
  },
  {
   "cell_type": "markdown",
   "id": "e06f22ae",
   "metadata": {},
   "source": [
    "Another use of the super keyword is to call methods from the parent class"
   ]
  },
  {
   "cell_type": "code",
   "execution_count": null,
   "id": "35c1fd44",
   "metadata": {},
   "outputs": [],
   "source": [
    "class ParentClass{\n",
    "    singLine(){\n",
    "        console.log('No, I can\\'t sleep until I feel your touch.' )\n",
    "    }\n",
    "}\n",
    "\n",
    "class childClass extends ParentClass{\n",
    "    singLine(){\n",
    "        console.log('I said, ooh, I\\'m blinded by the light')\n",
    "        super.singLine();\n",
    "        console.log(\"I said, ooh, I'm drowning in the night\")\n",
    "    }\n",
    "}\n"
   ]
  },
  {
   "cell_type": "code",
   "execution_count": null,
   "id": "4b08ae12",
   "metadata": {},
   "outputs": [],
   "source": [
    "let childSinger=new childClass();"
   ]
  },
  {
   "cell_type": "code",
   "execution_count": null,
   "id": "45c1b90d",
   "metadata": {},
   "outputs": [],
   "source": [
    "childSinger.singLine()"
   ]
  },
  {
   "cell_type": "markdown",
   "id": "d5f30221",
   "metadata": {},
   "source": [
    "<b> In the Typescript Section of this course we will go into more detail on OOP design principals</b>"
   ]
  },
  {
   "cell_type": "markdown",
   "id": "2fbfb90f",
   "metadata": {},
   "source": [
    "<a id=\"ice5\"></a>\n",
    "\n",
    "### In Class Assignment #5"
   ]
  },
  {
   "cell_type": "markdown",
   "id": "9203e781",
   "metadata": {},
   "source": [
    "Create a Class to represent all Animals.  These animals have a name and age attributes, and they have functions that will talk and walk.\n",
    "\n",
    "Create a class that inherehits from the Animal Class called Cat and one called Dog and override the methods for talk to an appropriate method for a Cat or Dog talking and retains the method for walk."
   ]
  },
  {
   "cell_type": "code",
   "execution_count": 1,
   "id": "84b74db7",
   "metadata": {},
   "outputs": [],
   "source": [
    "class Animal{\n",
    "    constructor(name, age){\n",
    "        this.name=name;\n",
    "        this.age=age;\n",
    "    }\n",
    "    walk(){\n",
    "        console.log(this.name+' is walking')\n",
    "    }\n",
    "    talk(){\n",
    "        console.log(this.name+' is talking. It must be possesed!')\n",
    "    }\n",
    "}\n"
   ]
  },
  {
   "cell_type": "code",
   "execution_count": 2,
   "id": "2d79f16e",
   "metadata": {},
   "outputs": [],
   "source": [
    "class Dog extends Animal{\n",
    "    constructor(name, age){\n",
    "        super(name, age);\n",
    "    }\n",
    "    talk(){\n",
    "        console.log(this.name+' barks.')\n",
    "    }\n",
    "}"
   ]
  },
  {
   "cell_type": "code",
   "execution_count": 3,
   "id": "92d01372",
   "metadata": {},
   "outputs": [],
   "source": [
    "class Cat extends Animal{\n",
    "    constructor(name, age){\n",
    "        super(name, age);\n",
    "    }\n",
    "    talk(){\n",
    "        console.log(this.name+' meows.')\n",
    "    }\n",
    "}"
   ]
  },
  {
   "cell_type": "code",
   "execution_count": null,
   "id": "eccaee66",
   "metadata": {},
   "outputs": [],
   "source": []
  },
  {
   "cell_type": "code",
   "execution_count": 4,
   "id": "8bc77e5e",
   "metadata": {},
   "outputs": [
    {
     "name": "stdout",
     "output_type": "stream",
     "text": [
      "Whiskers is walking\n",
      "Whiskers meows.\n",
      "Spot is walking\n",
      "Spot barks.\n"
     ]
    }
   ],
   "source": [
    "let whiskers = new Cat('Whiskers', 7);\n",
    "let spot = new Dog('Spot', 3);\n",
    "\n",
    "whiskers.walk(); // Whiskers is walking\n",
    "whiskers.talk(); // Whiskers meows\n",
    "spot.walk(); // Spot is walking\n",
    "spot.talk(); // Spot barks"
   ]
  },
  {
   "cell_type": "markdown",
   "id": "6b7e2da8",
   "metadata": {},
   "source": [
    "<a id=\"closure\"></a>\n",
    "\n",
    "## Closures"
   ]
  },
  {
   "cell_type": "markdown",
   "id": "b2347bd9",
   "metadata": {},
   "source": [
    "JavaScript and Python both have closures.  In JS they are used more often to create private variables.  But have many uses and we will talk about stateful functions and private variables\n",
    "\n",
    "A closure in JavaScript is a function that has access to variables in its outer scope, even after the outer function has returned. The closure \"closes over\" the variables in its outer scope, keeping them accessible even after the outer function has completed. This allows for data persistence and stateful function behavior. Closures are created when a function is declared inside another function and the inner function references variables from the outer function."
   ]
  },
  {
   "cell_type": "code",
   "execution_count": 1,
   "id": "a52cb826",
   "metadata": {},
   "outputs": [],
   "source": [
    "function createMultiplier(x){\n",
    "    function multiply(y){\n",
    "        return x*y\n",
    "    }\n",
    "    return multiply\n",
    "}"
   ]
  },
  {
   "cell_type": "code",
   "execution_count": 2,
   "id": "28a00426",
   "metadata": {},
   "outputs": [],
   "source": [
    "let timesFive=createMultiplier(5);"
   ]
  },
  {
   "cell_type": "code",
   "execution_count": 3,
   "id": "04cdb7b4",
   "metadata": {},
   "outputs": [
    {
     "data": {
      "text/plain": [
       "50"
      ]
     },
     "execution_count": 3,
     "metadata": {},
     "output_type": "execute_result"
    }
   ],
   "source": [
    "timesFive(10)"
   ]
  },
  {
   "cell_type": "code",
   "execution_count": 4,
   "id": "ba53849a",
   "metadata": {},
   "outputs": [],
   "source": [
    "let timesThree=createMultiplier(3);"
   ]
  },
  {
   "cell_type": "code",
   "execution_count": 5,
   "id": "494ca7b3",
   "metadata": {},
   "outputs": [
    {
     "data": {
      "text/plain": [
       "30"
      ]
     },
     "execution_count": 5,
     "metadata": {},
     "output_type": "execute_result"
    }
   ],
   "source": [
    "timesThree(10)"
   ]
  },
  {
   "cell_type": "code",
   "execution_count": null,
   "id": "5886c2b2",
   "metadata": {},
   "outputs": [],
   "source": []
  },
  {
   "cell_type": "code",
   "execution_count": null,
   "id": "0b7f5676",
   "metadata": {},
   "outputs": [],
   "source": []
  },
  {
   "cell_type": "markdown",
   "id": "fca88c6d",
   "metadata": {},
   "source": [
    "### Stateful Functions"
   ]
  },
  {
   "cell_type": "markdown",
   "id": "275ba1af",
   "metadata": {},
   "source": [
    "What we can see in this example is the inner function is incremeting the value of x that waas defined in the outer function.  The outher function is returning the unexecuted version of the inner function.\n",
    "\n",
    "when we try\n",
    "\n",
    "```\n",
    "adder=outer()\n",
    "```\n",
    "\n",
    "We are setting the variable adder to the unexecuted function inner. so adder is the inner funtion from our enclosure.\n",
    "\n",
    "then to execute that inner funcer and actually start incrementing our x value we can execute adder().\n",
    "\n",
    "<strong>Note</strong> that the value of x is maintained over multiple calls to the inner function, this is the benefit of the enclosure.\n",
    "\n"
   ]
  },
  {
   "cell_type": "code",
   "execution_count": 6,
   "id": "04de37a0",
   "metadata": {
    "scrolled": true
   },
   "outputs": [],
   "source": [
    "//simple example\n",
    "\n",
    "function outer(){\n",
    "    let myVar=1;\n",
    "    function inner(){\n",
    "        console.log(myVar++)\n",
    "    }\n",
    "    return inner\n",
    "}"
   ]
  },
  {
   "cell_type": "code",
   "execution_count": 7,
   "id": "3ef0b56e",
   "metadata": {},
   "outputs": [],
   "source": [
    "let adder=outer()"
   ]
  },
  {
   "cell_type": "code",
   "execution_count": 8,
   "id": "16e02da3",
   "metadata": {},
   "outputs": [
    {
     "name": "stdout",
     "output_type": "stream",
     "text": [
      "[Function: inner]\n"
     ]
    }
   ],
   "source": [
    "console.log(adder)"
   ]
  },
  {
   "cell_type": "code",
   "execution_count": 12,
   "id": "6259b7ef",
   "metadata": {},
   "outputs": [
    {
     "name": "stdout",
     "output_type": "stream",
     "text": [
      "4\n"
     ]
    }
   ],
   "source": [
    "adder()"
   ]
  },
  {
   "cell_type": "raw",
   "id": "2cd3b3dd",
   "metadata": {},
   "source": [
    "adder()"
   ]
  },
  {
   "cell_type": "code",
   "execution_count": null,
   "id": "081a8a6e",
   "metadata": {},
   "outputs": [],
   "source": []
  },
  {
   "cell_type": "code",
   "execution_count": null,
   "id": "b959f2a4",
   "metadata": {},
   "outputs": [],
   "source": []
  },
  {
   "cell_type": "markdown",
   "id": "0e641a99",
   "metadata": {},
   "source": [
    "### Closures as Private Variables"
   ]
  },
  {
   "cell_type": "markdown",
   "id": "4513f240",
   "metadata": {},
   "source": [
    "One Problem we may have seen while exploring the ES5 syntax is that you can change the variables from outside of your class.  If someone changes a variable that shouldn't be changed this could spell disaster.  TypeScript (we will learn next week) will help use greatly with this along with the ES 6 syntax for creating classes.  But what if we wanted a private variable in ES5?  Well Closures also help us with that.  We will use a self-invoking function to create the encolsure."
   ]
  },
  {
   "cell_type": "markdown",
   "id": "37e9b703",
   "metadata": {},
   "source": [
    "#### Self Invoking Function"
   ]
  },
  {
   "cell_type": "markdown",
   "id": "14cc5f44",
   "metadata": {},
   "source": [
    "A Self Invoking Function is merely a name given to a function that calls itself.  We use parathesis to wrap the function then add `(params)` to execute the function."
   ]
  },
  {
   "cell_type": "code",
   "execution_count": 13,
   "id": "6cb819e2",
   "metadata": {},
   "outputs": [],
   "source": [
    "// Non self invoking:\n",
    "\n",
    "// Step 1 - Create the function\n",
    "function sayHi(name){\n",
    "    console.log(`Hi, ${name}`)\n",
    "}\n",
    "\n",
    "// Step 2 - Invoke the funcion\n"
   ]
  },
  {
   "cell_type": "code",
   "execution_count": 14,
   "id": "b1ebe9ce",
   "metadata": {},
   "outputs": [
    {
     "name": "stdout",
     "output_type": "stream",
     "text": [
      "Hi, Greg\n"
     ]
    }
   ],
   "source": [
    "sayHi('Greg')"
   ]
  },
  {
   "cell_type": "code",
   "execution_count": 16,
   "id": "caee34ad",
   "metadata": {},
   "outputs": [
    {
     "name": "stdout",
     "output_type": "stream",
     "text": [
      "Hi, Joe\n"
     ]
    }
   ],
   "source": [
    "// IIFE - Immediately Invoked Function Expression\n",
    "(function(aName){\n",
    "    console.log(`Hi, ${aName}`)\n",
    "})('Joe')"
   ]
  },
  {
   "cell_type": "code",
   "execution_count": 17,
   "id": "cc85fac5",
   "metadata": {},
   "outputs": [],
   "source": [
    "const stepper=(function(){\n",
    "    let count=1;\n",
    "    return function(){console.log(count++)}\n",
    "})()"
   ]
  },
  {
   "cell_type": "code",
   "execution_count": 18,
   "id": "29472409",
   "metadata": {},
   "outputs": [
    {
     "name": "stdout",
     "output_type": "stream",
     "text": [
      "1\n",
      "2\n",
      "3\n",
      "4\n",
      "5\n",
      "6\n"
     ]
    }
   ],
   "source": [
    "stepper()\n",
    "stepper()\n",
    "stepper()\n",
    "stepper()\n",
    "stepper()\n",
    "stepper()"
   ]
  },
  {
   "cell_type": "code",
   "execution_count": 20,
   "id": "a77775f7",
   "metadata": {},
   "outputs": [],
   "source": [
    "const fib=(function(){\n",
    "    let cache={}\n",
    "    function calc(num){\n",
    "        if (num<=1){\n",
    "            return num\n",
    "        }else if (num in cache){\n",
    "            return cache[num]\n",
    "        }else {\n",
    "        let number=calc(num-1)+calc(num-2);\n",
    "        cache[num]=number\n",
    "        return number\n",
    "    }\n",
    "}return calc\n",
    "})()"
   ]
  },
  {
   "cell_type": "code",
   "execution_count": 21,
   "id": "59c9cfbf",
   "metadata": {},
   "outputs": [
    {
     "data": {
      "text/plain": [
       "55"
      ]
     },
     "execution_count": 21,
     "metadata": {},
     "output_type": "execute_result"
    }
   ],
   "source": [
    "fib(10)"
   ]
  },
  {
   "cell_type": "code",
   "execution_count": 22,
   "id": "0ceddeae",
   "metadata": {},
   "outputs": [
    {
     "data": {
      "text/plain": [
       "89"
      ]
     },
     "execution_count": 22,
     "metadata": {},
     "output_type": "execute_result"
    }
   ],
   "source": [
    "fib(11)"
   ]
  },
  {
   "cell_type": "markdown",
   "id": "3d94c1a4",
   "metadata": {},
   "source": [
    "#### Private Variable"
   ]
  },
  {
   "cell_type": "code",
   "execution_count": 23,
   "id": "ca61744d",
   "metadata": {},
   "outputs": [],
   "source": [
    "var myTest=(function(){\n",
    "    let _name='default';\n",
    "    getName=function(){\n",
    "        return _name\n",
    "    }\n",
    "    setName=function(newName){\n",
    "        if (typeof newName==='string'){\n",
    "            _name=newName;\n",
    "        }\n",
    "    }\n",
    "    return {getName, setName}\n",
    "})()"
   ]
  },
  {
   "cell_type": "code",
   "execution_count": 24,
   "id": "b5a46c53",
   "metadata": {},
   "outputs": [
    {
     "data": {
      "text/plain": [
       "{ getName: [Function: getName], setName: [Function: setName] }"
      ]
     },
     "execution_count": 24,
     "metadata": {},
     "output_type": "execute_result"
    }
   ],
   "source": [
    "myTest"
   ]
  },
  {
   "cell_type": "code",
   "execution_count": 27,
   "id": "ce49e651",
   "metadata": {},
   "outputs": [
    {
     "name": "stdout",
     "output_type": "stream",
     "text": [
      "Benjamin\n",
      "Benjamin\n"
     ]
    }
   ],
   "source": [
    "console.log(myTest.getName())\n",
    "myTest.setName('Benjamin')\n",
    "console.log(myTest.getName())"
   ]
  },
  {
   "cell_type": "code",
   "execution_count": 29,
   "id": "89a3162b",
   "metadata": {},
   "outputs": [
    {
     "name": "stdout",
     "output_type": "stream",
     "text": [
      "Benjamin\n"
     ]
    }
   ],
   "source": [
    "myTest.setName(123)\n",
    "console.log(myTest.getName())"
   ]
  },
  {
   "cell_type": "markdown",
   "id": "e7ce6c23",
   "metadata": {},
   "source": [
    "<a id=\"stack\"></a>\n",
    "\n",
    "## JavaScript Call Stack"
   ]
  },
  {
   "cell_type": "markdown",
   "id": "1665d4a7",
   "metadata": {},
   "source": [
    "JS uses a Call Stack to add processes to the stack that executes the process.\n",
    "The stack runs in Chrome's V8 engine, which also contains WebAPIs. Things that run asynchronously (not in the queue with other commands) are sent to the WebAPI to await their turn to be added to the stack. The stack must be cleared before the WebAPI can add the asynchronous process. This is why you often see `setTimeout()` set to a timeout of zero seconds. This is not saying to wait zero seconds and then execute this process; it is saying to wait for the stack to clear before running it.\n",
    "\n",
    "\n",
    "Recommended Video: <a href=\"https://www.youtube.com/watch?v=8aGhZQkoFbQ\">https://www.youtube.com/watch?v=8aGhZQkoFbQ</a>\n"
   ]
  },
  {
   "cell_type": "code",
   "execution_count": 30,
   "id": "4e653100",
   "metadata": {},
   "outputs": [
    {
     "name": "stdout",
     "output_type": "stream",
     "text": [
      "Above timeout\n",
      "Below timeout\n",
      "In the timeout\n"
     ]
    }
   ],
   "source": [
    "console.log('Above timeout');\n",
    "\n",
    "setTimeout(() => { console.log('In the timeout') }, 2000);\n",
    "\n",
    "console.log('Below timeout');"
   ]
  },
  {
   "cell_type": "code",
   "execution_count": 31,
   "id": "71a2d67e",
   "metadata": {},
   "outputs": [
    {
     "name": "stdout",
     "output_type": "stream",
     "text": [
      "Above timeout\n",
      "Below timeout\n",
      "In the timeout\n"
     ]
    }
   ],
   "source": [
    "console.log('Above timeout');\n",
    "\n",
    "setTimeout(() => { console.log('In the timeout') }, 0);\n",
    "\n",
    "console.log('Below timeout');"
   ]
  },
  {
   "cell_type": "code",
   "execution_count": 32,
   "id": "370db114",
   "metadata": {},
   "outputs": [
    {
     "name": "stdout",
     "output_type": "stream",
     "text": [
      "Start\n",
      "Second\n",
      "First\n"
     ]
    }
   ],
   "source": [
    "function first(){\n",
    "    console.log('Start');\n",
    "    setTimeout(() => {\n",
    "        console.log('First');\n",
    "    }, 2000)\n",
    "}\n",
    "\n",
    "\n",
    "function second(){\n",
    "    console.log('Second');\n",
    "}\n",
    "\n",
    "\n",
    "\n",
    "first();\n",
    "second();"
   ]
  },
  {
   "cell_type": "markdown",
   "id": "271ffd45",
   "metadata": {},
   "source": [
    "Below the initial call stack will look like:\n",
    "\n",
    "tfunc3()\n",
    "\n",
    "tfunc2()\n",
    "\n",
    "tfunc1()\n",
    "\n",
    "This is because tfunc1 calls tfunc2 which calls tfunc3.  Then tfunc3 will execute then tfunc2 then tfunc1. Now that all those have processed, the stack is clear and the setTime will come from the WebAPIs and be ran even though it was called first.\n"
   ]
  },
  {
   "cell_type": "code",
   "execution_count": 33,
   "id": "2acd8c28",
   "metadata": {},
   "outputs": [
    {
     "name": "stdout",
     "output_type": "stream",
     "text": [
      "Hello\n",
      "In the timeout\n"
     ]
    }
   ],
   "source": [
    "var tfunc1 = () => { tfunc2() }\n",
    "\n",
    "var tfunc2 = () => { tfunc3() }\n",
    "\n",
    "var tfunc3 = () => { console.log('Hello') }\n",
    "\n",
    "setTimeout(() => console.log('In the timeout'), 0)\n",
    "\n",
    "\n",
    "tfunc1();"
   ]
  },
  {
   "cell_type": "markdown",
   "id": "60b8ebdd",
   "metadata": {},
   "source": [
    "<a id=\"callback\"></a>\n",
    "\n",
    "## Callbacks"
   ]
  },
  {
   "cell_type": "markdown",
   "id": "4ed13917",
   "metadata": {},
   "source": [
    "Simply put: A Callback is a function that is to be executed after another\n",
    "    function has finished its execution - hence the name callback.\n",
    "\n",
    "   More Complex Definition: In JavaScript, functions are objects. Because of this,\n",
    "    functions can take other functions as arguments(parameters), and can return functions\n",
    "    by other functions.\n",
    "\n",
    "   Functions that do this are called \"higher - Order functions\". Any function,\n",
    "    that is passed as an argument is called a \"Callback function\".\n",
    "\n",
    "   SOOOO...why do we need them?\n",
    "\n",
    "   The reason for this is, because of the JavaScript Event Loop. In a nutshell\n",
    "    JavaScript is an event driven language so this means, that instead of waiting for \n",
    "    a response before moving on, JS will keep executing while listening for other events.\n",
    "\n"
   ]
  },
  {
   "cell_type": "code",
   "execution_count": 35,
   "id": "0deaa19e",
   "metadata": {},
   "outputs": [],
   "source": [
    "function downloadSong(songName){\n",
    "    console.log(`Downloading ${songName}...`)\n",
    "    setTimeout( () => {\n",
    "        console.log('Finished downloading')\n",
    "        return {title: songName, artist: 'Taylor Swift'}\n",
    "    }, 2000)\n",
    "}\n",
    "\n",
    "\n",
    "function playSong(songName){\n",
    "    let song = downloadSong(songName);\n",
    "    console.log(`${song?.title} by ${song?.artist} is now playing.`)\n",
    "}"
   ]
  },
  {
   "cell_type": "code",
   "execution_count": 36,
   "id": "645085de",
   "metadata": {},
   "outputs": [
    {
     "name": "stdout",
     "output_type": "stream",
     "text": [
      "Downloading Bad Blood...\n",
      "undefined by undefined is now playing.\n",
      "Finished downloading\n"
     ]
    }
   ],
   "source": [
    "playSong('Bad Blood')"
   ]
  },
  {
   "cell_type": "code",
   "execution_count": null,
   "id": "c39a058c",
   "metadata": {},
   "outputs": [],
   "source": []
  },
  {
   "cell_type": "code",
   "execution_count": null,
   "id": "8fa6b554",
   "metadata": {},
   "outputs": [],
   "source": []
  },
  {
   "cell_type": "code",
   "execution_count": null,
   "id": "b9db41b4",
   "metadata": {},
   "outputs": [],
   "source": []
  },
  {
   "cell_type": "code",
   "execution_count": null,
   "id": "d1ced8c6",
   "metadata": {},
   "outputs": [],
   "source": []
  },
  {
   "cell_type": "markdown",
   "id": "6c806b92",
   "metadata": {},
   "source": [
    "\n",
    "   Thought Callbacks give us more functionality...they also introduce\n",
    "    their own problem: Callback Hell\n",
    "\n",
    "   Something that looks like this:\n",
    "   ```\n",
    "    function1( () => {\n",
    "        function2( () => {\n",
    "            function3( () => {\n",
    "                function4( () => {\n",
    "                    // Maybe do something here... 🤷🏾‍♂️\n",
    "                })\n",
    "            })\n",
    "        })\n",
    "    })\n",
    "```"
   ]
  },
  {
   "cell_type": "markdown",
   "id": "88368efe",
   "metadata": {},
   "source": [
    "<a id=\"promise\"></a>\n",
    "\n",
    "## Promises"
   ]
  },
  {
   "cell_type": "markdown",
   "id": "2a26e829",
   "metadata": {},
   "source": [
    "A Promise in JS is basically a promise that the function will do the requested action and then return that result back when it is finished.  This will run asynchronously on the WebAPIs.  \n",
    "\n",
    "Each Promise can either be fulfilled, meaning it has got the answer for you; pending meaning it hasn't finished yet, and rejected meaning something went wrong.\n",
    "\n",
    "The Promise object supports two properties: state and result.\n",
    "\n",
    "While a Promise object is \"pending\" (working), the result is undefined.\n",
    "\n",
    "When a Promise object is \"fulfilled\", the result is a value.\n",
    "\n",
    "When a Promise object is \"rejected\", the result is an error object."
   ]
  },
  {
   "cell_type": "code",
   "execution_count": 38,
   "id": "e4c7c4ff",
   "metadata": {},
   "outputs": [],
   "source": [
    "function downloadSong(songName){\n",
    "    console.log(`Searching for ${songName} in the database...`)\n",
    "    return new Promise( (resolve, reject) => {\n",
    "        // mimic downloading a song - songs with less than 5 chars don't exist\n",
    "        setTimeout( () => {\n",
    "            if (songName.length >= 5){\n",
    "                resolve({ title: songName, artist: 'Taylor Swift'})\n",
    "            } else {\n",
    "                reject(`${songName} does not exist`)\n",
    "            }\n",
    "        }, 3000)\n",
    "    } )\n",
    "}"
   ]
  },
  {
   "cell_type": "markdown",
   "id": "169d8280",
   "metadata": {},
   "source": [
    "#### Still pending"
   ]
  },
  {
   "cell_type": "code",
   "execution_count": 39,
   "id": "d9f60bca",
   "metadata": {},
   "outputs": [
    {
     "name": "stdout",
     "output_type": "stream",
     "text": [
      "Searching for Blank Space in the database...\n",
      "Promise { <pending> }\n"
     ]
    }
   ],
   "source": [
    "let mySong=downloadSong('Blank Space');\n",
    "console.log(mySong);"
   ]
  },
  {
   "cell_type": "code",
   "execution_count": 40,
   "id": "4cb6794e",
   "metadata": {},
   "outputs": [
    {
     "name": "stdout",
     "output_type": "stream",
     "text": [
      "Promise { { title: 'Blank Space', artist: 'Taylor Swift' } }\n"
     ]
    }
   ],
   "source": [
    "console.log(mySong)"
   ]
  },
  {
   "cell_type": "code",
   "execution_count": 41,
   "id": "76265fa1",
   "metadata": {
    "scrolled": true
   },
   "outputs": [
    {
     "name": "stdout",
     "output_type": "stream",
     "text": [
      "Searching for Now in the database...\n",
      "Promise { <pending> }\n"
     ]
    },
    {
     "name": "stderr",
     "output_type": "stream",
     "text": [
      "UnhandledPromiseRejection: This error originated either by throwing inside of an async function without a catch block, or by rejecting a promise which was not handled with .catch(). The promise rejected with the reason \"Now does not exist\"."
     ]
    }
   ],
   "source": [
    "let anotherSong=downloadSong('Now');\n",
    "console.log(anotherSong)"
   ]
  },
  {
   "cell_type": "code",
   "execution_count": 42,
   "id": "4a1f00d9",
   "metadata": {},
   "outputs": [
    {
     "name": "stdout",
     "output_type": "stream",
     "text": [
      "Promise { <rejected> 'Now does not exist' }\n"
     ]
    }
   ],
   "source": [
    "console.log(anotherSong)"
   ]
  },
  {
   "cell_type": "code",
   "execution_count": null,
   "id": "fb633f9c",
   "metadata": {},
   "outputs": [],
   "source": []
  },
  {
   "cell_type": "markdown",
   "id": "47aef0f3",
   "metadata": {},
   "source": [
    "#### Resolving the Promise"
   ]
  },
  {
   "cell_type": "markdown",
   "id": "69713ff4",
   "metadata": {},
   "source": [
    "Using a chain of callbacks and .then/.catch/.finally we can resolve the promise and recieve its output\n",
    "\n",
    "`.then((resultOfPromise)=>{do something with result})` this will resolve the promise when it becomes fulfilled.\n",
    "\n",
    "`.catch((error)=>{do something based on the error})` this will run if the promise returns an error\n",
    "\n",
    "`.finally(()=>{do something after promise has been fulfilled or rejected})`"
   ]
  },
  {
   "cell_type": "code",
   "execution_count": 43,
   "id": "cb209982",
   "metadata": {},
   "outputs": [],
   "source": [
    "function playSong(song){\n",
    "    console.log(`${song.title} by ${song.artist} is now playing...`)\n",
    "}"
   ]
  },
  {
   "cell_type": "code",
   "execution_count": 44,
   "id": "2472f5a2",
   "metadata": {},
   "outputs": [
    {
     "name": "stdout",
     "output_type": "stream",
     "text": [
      "Searching for Bad Blood in the database...\n",
      "undefined by undefined is now playing...\n"
     ]
    }
   ],
   "source": [
    "let song=downloadSong('Bad Blood');\n",
    "playSong(song)"
   ]
  },
  {
   "cell_type": "code",
   "execution_count": 45,
   "id": "2de1a34a",
   "metadata": {},
   "outputs": [
    {
     "name": "stdout",
     "output_type": "stream",
     "text": [
      "Searching for Bad Blood in the database...\n"
     ]
    },
    {
     "data": {
      "text/plain": [
       "Promise { <pending> }"
      ]
     },
     "execution_count": 45,
     "metadata": {},
     "output_type": "execute_result"
    },
    {
     "name": "stdout",
     "output_type": "stream",
     "text": [
      "Bad Blood by Taylor Swift is now playing...\n"
     ]
    }
   ],
   "source": [
    "downloadSong('Bad Blood').then(playSong);"
   ]
  },
  {
   "cell_type": "code",
   "execution_count": 46,
   "id": "60fae945",
   "metadata": {},
   "outputs": [],
   "source": [
    "function handleRejection(errMessage){\n",
    "    console.warn(errMessage);\n",
    "}"
   ]
  },
  {
   "cell_type": "code",
   "execution_count": 47,
   "id": "628ba5cc",
   "metadata": {},
   "outputs": [
    {
     "name": "stderr",
     "output_type": "stream",
     "text": [
      "I hate you\n"
     ]
    }
   ],
   "source": [
    "handleRejection('I hate you')"
   ]
  },
  {
   "cell_type": "code",
   "execution_count": 48,
   "id": "f998c802",
   "metadata": {},
   "outputs": [
    {
     "name": "stdout",
     "output_type": "stream",
     "text": [
      "Searching for Now in the database...\n"
     ]
    },
    {
     "data": {
      "text/plain": [
       "Promise { <pending> }"
      ]
     },
     "execution_count": 48,
     "metadata": {},
     "output_type": "execute_result"
    },
    {
     "name": "stderr",
     "output_type": "stream",
     "text": [
      "Now does not exist\n"
     ]
    }
   ],
   "source": [
    "downloadSong('Now').then(playSong).catch(handleRejection)"
   ]
  },
  {
   "cell_type": "code",
   "execution_count": 51,
   "id": "a4fde2aa",
   "metadata": {},
   "outputs": [
    {
     "name": "stdout",
     "output_type": "stream",
     "text": [
      "Searching for Anti-Hero in the database...\n"
     ]
    },
    {
     "data": {
      "text/plain": [
       "Promise { <pending> }"
      ]
     },
     "execution_count": 51,
     "metadata": {},
     "output_type": "execute_result"
    },
    {
     "name": "stdout",
     "output_type": "stream",
     "text": [
      "Anti-Hero by Taylor Swift is now playing...\n",
      "Finished!\n"
     ]
    }
   ],
   "source": [
    "downloadSong('Anti-Hero')\n",
    "    .then(playSong)\n",
    "    .catch(handleRejection)\n",
    "    .finally(()=>console.log('Finished!'))"
   ]
  },
  {
   "cell_type": "code",
   "execution_count": 52,
   "id": "79e68a69",
   "metadata": {},
   "outputs": [
    {
     "name": "stdout",
     "output_type": "stream",
     "text": [
      "Searching for ABC in the database...\n"
     ]
    },
    {
     "data": {
      "text/plain": [
       "Promise { <pending> }"
      ]
     },
     "execution_count": 52,
     "metadata": {},
     "output_type": "execute_result"
    },
    {
     "name": "stderr",
     "output_type": "stream",
     "text": [
      "ABC does not exist\n"
     ]
    },
    {
     "name": "stdout",
     "output_type": "stream",
     "text": [
      "Finished!\n"
     ]
    }
   ],
   "source": [
    "downloadSong('ABC')\n",
    "    .then(playSong)\n",
    "    .catch(handleRejection)\n",
    "    .finally(()=>console.log('Finished!'))"
   ]
  },
  {
   "cell_type": "code",
   "execution_count": 53,
   "id": "8769d7f2",
   "metadata": {},
   "outputs": [
    {
     "name": "stdout",
     "output_type": "stream",
     "text": [
      "Searching for Cruel Summer in the database...\n"
     ]
    },
    {
     "data": {
      "text/plain": [
       "Promise { <pending> }"
      ]
     },
     "execution_count": 53,
     "metadata": {},
     "output_type": "execute_result"
    },
    {
     "name": "stdout",
     "output_type": "stream",
     "text": [
      "Cruel Summer is playing...\n",
      "Oh my gosh,  Taylor Swift I love you!\n",
      "Thank you for using our database\n"
     ]
    }
   ],
   "source": [
    "downloadSong('Cruel Summer')\n",
    "    .then(song=>{\n",
    "        console.log(`${song.title} is playing...`)\n",
    "        return song.artist\n",
    "}).then( artist=>console.log('Oh my gosh, ', artist, 'I love you!'))\n",
    ".catch(err=>console.warn(err))\n",
    ".finally(()=>console.log('Thank you for using our database'))"
   ]
  },
  {
   "cell_type": "code",
   "execution_count": 54,
   "id": "b38dd9a7",
   "metadata": {},
   "outputs": [
    {
     "name": "stdout",
     "output_type": "stream",
     "text": [
      "Searching for Hi in the database...\n"
     ]
    },
    {
     "data": {
      "text/plain": [
       "Promise { <pending> }"
      ]
     },
     "execution_count": 54,
     "metadata": {},
     "output_type": "execute_result"
    },
    {
     "name": "stderr",
     "output_type": "stream",
     "text": [
      "Hi does not exist\n"
     ]
    },
    {
     "name": "stdout",
     "output_type": "stream",
     "text": [
      "Thank you for using our database\n"
     ]
    }
   ],
   "source": [
    "downloadSong('Hi')\n",
    "    .then(song=>{\n",
    "        console.log(`${song.title} is playing...`)\n",
    "        return song.artist\n",
    "}).then( artist=>console.log('Oh my gosh, ', artist, 'I love you!'))\n",
    ".catch(err=>console.warn(err))\n",
    ".finally(()=>console.log('Thank you for using our database'))"
   ]
  },
  {
   "cell_type": "code",
   "execution_count": 55,
   "id": "bdf251ba",
   "metadata": {},
   "outputs": [],
   "source": [
    "function playTaylor(songName){\n",
    "    downloadSong(songName)\n",
    "    .then(song=>{\n",
    "        console.log(`${song.title} is playing...`)\n",
    "        return song.artist\n",
    "}).then( artist=>console.log('Oh my gosh, ', artist, 'I love you!'))\n",
    ".catch(err=>console.warn(err))\n",
    ".finally(()=>console.log('Thank you for using our database'))\n",
    "}"
   ]
  },
  {
   "cell_type": "code",
   "execution_count": 56,
   "id": "42a61a5c",
   "metadata": {},
   "outputs": [
    {
     "name": "stdout",
     "output_type": "stream",
     "text": [
      "Searching for Teardrops in the database...\n",
      "Teardrops is playing...\n",
      "Oh my gosh,  Taylor Swift I love you!\n",
      "Thank you for using our database\n"
     ]
    }
   ],
   "source": [
    "playTaylor('Teardrops')"
   ]
  },
  {
   "cell_type": "code",
   "execution_count": 57,
   "id": "1a6fd743",
   "metadata": {},
   "outputs": [
    {
     "name": "stdout",
     "output_type": "stream",
     "text": [
      "Searching for ABC in the database...\n"
     ]
    },
    {
     "name": "stderr",
     "output_type": "stream",
     "text": [
      "ABC does not exist\n"
     ]
    },
    {
     "name": "stdout",
     "output_type": "stream",
     "text": [
      "Thank you for using our database\n"
     ]
    }
   ],
   "source": [
    "playTaylor('ABC')"
   ]
  },
  {
   "cell_type": "code",
   "execution_count": null,
   "id": "46274485",
   "metadata": {},
   "outputs": [],
   "source": []
  },
  {
   "cell_type": "code",
   "execution_count": null,
   "id": "dcd058c0",
   "metadata": {
    "scrolled": true
   },
   "outputs": [],
   "source": []
  },
  {
   "cell_type": "markdown",
   "id": "3d9eb851",
   "metadata": {},
   "source": [
    "<a id=\"async\"></a>\n",
    "\n",
    "### Async Await"
   ]
  },
  {
   "cell_type": "markdown",
   "id": "1c9948c4",
   "metadata": {},
   "source": [
    "Async Await is another way to reolve your promises, that is a bit more clear than the .then.catch chain\n",
    "\n",
    "To do this we use the key word `await` in front of the promise call.\n",
    "\n",
    "Any function that is awaiting something must be labeled as `async`.\n",
    "\n",
    "You can not await something at the top level of your code"
   ]
  },
  {
   "cell_type": "code",
   "execution_count": null,
   "id": "88127f77",
   "metadata": {},
   "outputs": [],
   "source": [
    "function playTaylor(songName){\n",
    "    downloadSong(songName)\n",
    "    .then(song=>{\n",
    "        console.log(`${song.title} is playing...`)\n",
    "        return song.artist\n",
    "}).then( artist=>console.log('Oh my gosh, ', artist, 'I love you!'))\n",
    ".catch(err=>console.warn(err))\n",
    ".finally(()=>console.log('Thank you for using our database'))\n",
    "}"
   ]
  },
  {
   "cell_type": "code",
   "execution_count": 58,
   "id": "6d9a957f",
   "metadata": {},
   "outputs": [],
   "source": [
    "async function playTaylor2(songName){\n",
    "    let song= await downloadSong(songName);\n",
    "    console.log(`${song.title} is playing...`);\n",
    "    let artist=await song.artist;\n",
    "    console.log('Oh my gosh, ', artist, 'I love you!')\n",
    "    console.log('Thank you for using our database')\n",
    "}"
   ]
  },
  {
   "cell_type": "code",
   "execution_count": 59,
   "id": "d171030d",
   "metadata": {},
   "outputs": [
    {
     "name": "stdout",
     "output_type": "stream",
     "text": [
      "Searching for love story in the database...\n"
     ]
    },
    {
     "data": {
      "text/plain": [
       "Promise { <pending> }"
      ]
     },
     "execution_count": 59,
     "metadata": {},
     "output_type": "execute_result"
    },
    {
     "name": "stdout",
     "output_type": "stream",
     "text": [
      "love story is playing...\n",
      "Oh my gosh,  Taylor Swift I love you!\n",
      "Thank you for using our database\n"
     ]
    }
   ],
   "source": [
    "playTaylor2('love story')"
   ]
  },
  {
   "cell_type": "markdown",
   "id": "752cbd0c",
   "metadata": {},
   "source": [
    "#### Handling an Error"
   ]
  },
  {
   "cell_type": "code",
   "execution_count": 60,
   "id": "1f304273",
   "metadata": {},
   "outputs": [
    {
     "name": "stdout",
     "output_type": "stream",
     "text": [
      "Searching for ABC in the database...\n"
     ]
    },
    {
     "data": {
      "text/plain": [
       "Promise { <pending> }"
      ]
     },
     "execution_count": 60,
     "metadata": {},
     "output_type": "execute_result"
    },
    {
     "name": "stderr",
     "output_type": "stream",
     "text": [
      "UnhandledPromiseRejection: This error originated either by throwing inside of an async function without a catch block, or by rejecting a promise which was not handled with .catch(). The promise rejected with the reason \"ABC does not exist\"."
     ]
    }
   ],
   "source": [
    "playTaylor2('ABC')"
   ]
  },
  {
   "cell_type": "code",
   "execution_count": 61,
   "id": "fc95aa90",
   "metadata": {},
   "outputs": [],
   "source": [
    "async function playTaylor2(songName){\n",
    "   try{ let song= await downloadSong(songName);\n",
    "    console.log(`${song.title} is playing...`);\n",
    "    let artist=await song.artist;\n",
    "    console.log('Oh my gosh, ', artist, 'I love you!')\n",
    "      }catch(errMessage){\n",
    "          console.warn(errMessage)\n",
    "      }\n",
    "    console.log('Thank you for using our database')\n",
    "}"
   ]
  },
  {
   "cell_type": "code",
   "execution_count": 62,
   "id": "7658bc86",
   "metadata": {},
   "outputs": [
    {
     "name": "stdout",
     "output_type": "stream",
     "text": [
      "Searching for help in the database...\n"
     ]
    },
    {
     "data": {
      "text/plain": [
       "Promise { <pending> }"
      ]
     },
     "execution_count": 62,
     "metadata": {},
     "output_type": "execute_result"
    },
    {
     "name": "stderr",
     "output_type": "stream",
     "text": [
      "help does not exist\n"
     ]
    },
    {
     "name": "stdout",
     "output_type": "stream",
     "text": [
      "Thank you for using our database\n"
     ]
    }
   ],
   "source": [
    "playTaylor2('help')"
   ]
  },
  {
   "cell_type": "markdown",
   "id": "846ace33",
   "metadata": {},
   "source": [
    "### Async with Arrow Functions"
   ]
  },
  {
   "cell_type": "markdown",
   "id": "f023c98d",
   "metadata": {},
   "source": [
    "In arrow functions the `async` keyword goes before the parameter list\n",
    "\n",
    "\n",
    "```const arrow_func = async () =>{\n",
    "    await some```"
   ]
  },
  {
   "cell_type": "code",
   "execution_count": 63,
   "id": "bc1d898f",
   "metadata": {
    "scrolled": true
   },
   "outputs": [],
   "source": [
    "let playArrowSong =async (songName)=>{\n",
    "   try{ let song= await downloadSong(songName);\n",
    "    console.log(`${song.title} is playing...`);\n",
    "    let artist=await song.artist;\n",
    "    console.log('Oh my gosh, ', artist, 'I love you!')\n",
    "      }catch(errMessage){\n",
    "          console.warn(errMessage)\n",
    "      }\n",
    "    console.log('Thank you for using our database')\n",
    "}"
   ]
  },
  {
   "cell_type": "code",
   "execution_count": 64,
   "id": "ce953c16",
   "metadata": {},
   "outputs": [
    {
     "name": "stdout",
     "output_type": "stream",
     "text": [
      "Searching for Out of the woods in the database...\n",
      "Searching for 1989 in the database...\n"
     ]
    },
    {
     "data": {
      "text/plain": [
       "Promise { <pending> }"
      ]
     },
     "execution_count": 64,
     "metadata": {},
     "output_type": "execute_result"
    },
    {
     "name": "stdout",
     "output_type": "stream",
     "text": [
      "Out of the woods is playing...\n",
      "Oh my gosh,  Taylor Swift I love you!\n",
      "Thank you for using our database\n"
     ]
    },
    {
     "name": "stderr",
     "output_type": "stream",
     "text": [
      "1989 does not exist\n"
     ]
    },
    {
     "name": "stdout",
     "output_type": "stream",
     "text": [
      "Thank you for using our database\n"
     ]
    }
   ],
   "source": [
    "playArrowSong('Out of the woods')\n",
    "playArrowSong('1989')"
   ]
  },
  {
   "cell_type": "markdown",
   "id": "75d2f2ad",
   "metadata": {},
   "source": [
    "<a id=\"ice6\"></a>\n",
    "\n",
    "### In Class Assignment #6"
   ]
  },
  {
   "cell_type": "markdown",
   "id": "bdf055d1",
   "metadata": {},
   "source": [
    "In the 2 cells Provided resolve the `login` promise using .then/.catch and using async await (for async await create an async function) to login in `codingtemple` with the password `ctrules` be sure to handle rejection in both cases."
   ]
  },
  {
   "cell_type": "code",
   "execution_count": null,
   "id": "9fcff3df",
   "metadata": {},
   "outputs": [],
   "source": []
  },
  {
   "cell_type": "code",
   "execution_count": null,
   "id": "15db11f3",
   "metadata": {},
   "outputs": [],
   "source": []
  },
  {
   "cell_type": "code",
   "execution_count": null,
   "id": "2d6dc6af",
   "metadata": {},
   "outputs": [],
   "source": []
  },
  {
   "cell_type": "code",
   "execution_count": null,
   "id": "d2c3a6ce",
   "metadata": {},
   "outputs": [],
   "source": [
    "//.then .catch\n",
    "\n",
    "\n",
    "\n",
    "\n",
    "\n",
    "\n",
    "\n",
    "\n"
   ]
  },
  {
   "cell_type": "code",
   "execution_count": null,
   "id": "acfe4234",
   "metadata": {},
   "outputs": [],
   "source": [
    "// async await\n",
    "\n",
    "\n",
    "\n",
    "\n",
    "\n",
    "\n",
    "\n",
    "\n"
   ]
  },
  {
   "cell_type": "markdown",
   "id": "9fca9011",
   "metadata": {},
   "source": [
    "<a id=\"hw\"></a>\n",
    "\n",
    "# Homework"
   ]
  },
  {
   "cell_type": "markdown",
   "id": "70bd1f3d",
   "metadata": {},
   "source": [
    "### Question #1"
   ]
  },
  {
   "cell_type": "markdown",
   "id": "e50cbea4",
   "metadata": {},
   "source": [
    "Use the array of shop items provided and present the the information in the following format\n",
    "\n",
    "```\n",
    "=======================================\n",
    "Name: \t Air Max 97\n",
    "Price: \t 130\n",
    "About: \t The design of the shoe is commonly thought to be inspired by the bullet trains of Japan, but the design was inspired by mountain bikes. \n",
    "Category: shoes\n",
    "=======================================\n",
    "Name: \t Adidas NMD R1\n",
    "Price: \t 128\n",
    "About: \t New-wave classics, with a timeless vintage design: men’s NMD R1 gear is the ultimate go-anywhere shoe. Vibrant styles and soft cushioning will have you gliding through life, wherever it may take you.\n",
    "Category: shoes\n",
    "=======================================\n",
    "Name: \t Gucci Oversize T-shirt with Interlocking G\n",
    "Price: \t 580\n",
    "About: \t The now recognizable oversize Gucci T-shirt continues to evolve with each new collection, the Interlocking G print is influenced by an '80s design from the archives. Streetwear continues to be a defining feature of Gucci's collections and is often juxtaposed by tailored separates.\n",
    "Category: shirts\n",
    "=======================================\n",
    "Name: \t Nike Sportswear Club\n",
    "Price: \t 18.97\n",
    "About: \t The Nike Sportswear Club T-Shirt is made with our everyday cotton fabric and a classic fit for a familiar feel right out of the bag. An embroidered Futura logo on the chest provides a signature Nike look.\n",
    "Category: shirts\n",
    "=======================================\n",
    "Name: \t Spanx Flare Jeans, Vintage Indigo\n",
    "Price: \t 148\n",
    "About: \t These 70s inspired flare jeans are the perfect wear everywhere with anything style. Designed with premium stretch denim, high-rise coverage and hidden core shaping technology, this jean puts a new twist on a retro silhouette.\n",
    "Category: pants\n",
    "=======================================\n",
    "Name: \t Bonobos Premium Stretch Jeans\n",
    "Price: \t 69\n",
    "About: \t Resilient stretch denim made incredibly soft. Yes, jeans can be unbelievably comfortable.\n",
    "Category: pants\n",
    "```"
   ]
  },
  {
   "cell_type": "code",
   "execution_count": 3,
   "id": "0083b114",
   "metadata": {},
   "outputs": [],
   "source": [
    "var shopItems=[{\n",
    "    id:1,\n",
    "    name:\"Air Max 97\",\n",
    "    price:130.00,\n",
    "    desc:\"The design of the shoe is commonly thought to be inspired by the bullet trains of Japan, but the design was inspired by mountain bikes. \",\n",
    "    category:\"shoes\"\n",
    "},{\n",
    "    id:2,\n",
    "    name:\"Adidas NMD R1\",\n",
    "    price:128,\n",
    "    desc:\"New-wave classics, with a timeless vintage design: men’s NMD R1 gear is the ultimate go-anywhere shoe. Vibrant styles and soft cushioning will have you gliding through life, wherever it may take you.\",\n",
    "    category:\"shoes\"\n",
    "},{\n",
    "    id:3,\n",
    "    name:\"Gucci Oversize T-shirt with Interlocking G\",\n",
    "    price:580,\n",
    "    desc:\"The now recognizable oversize Gucci T-shirt continues to evolve with each new collection, the Interlocking G print is influenced by an '80s design from the archives. Streetwear continues to be a defining feature of Gucci's collections and is often juxtaposed by tailored separates.\",\n",
    "    category:\"shirts\"\n",
    "},{\n",
    "    id:4,\n",
    "    name:\"Nike Sportswear Club\",\n",
    "    price:18.97,\n",
    "    desc:\"The Nike Sportswear Club T-Shirt is made with our everyday cotton fabric and a classic fit for a familiar feel right out of the bag. An embroidered Futura logo on the chest provides a signature Nike look.\",\n",
    "    category:\"shirts\"\n",
    "},{\n",
    "    id:5,\n",
    "    name:\"Spanx Flare Jeans, Vintage Indigo\",\n",
    "    price:148,\n",
    "    desc:\"These 70s inspired flare jeans are the perfect wear everywhere with anything style. Designed with premium stretch denim, high-rise coverage and hidden core shaping technology, this jean puts a new twist on a retro silhouette.\",\n",
    "    category:\"pants\"\n",
    "},{\n",
    "    id:6,\n",
    "    name:\"Bonobos Premium Stretch Jeans\",\n",
    "    price:69,\n",
    "    desc:\"Resilient stretch denim made incredibly soft. Yes, jeans can be unbelievably comfortable.\",\n",
    "    category:\"pants\"\n",
    "}]"
   ]
  },
  {
   "cell_type": "code",
   "execution_count": 6,
   "id": "82aaf889",
   "metadata": {},
   "outputs": [
    {
     "name": "stdout",
     "output_type": "stream",
     "text": [
      "=======================================\n",
      "Name: Air Max 97\n",
      "Price: 130\n",
      "About: The design of the shoe is commonly thought to be inspired by the bullet trains of Japan, but the design was inspired by mountain bikes. \n",
      "Category: shoes\n",
      "=======================================\n",
      "Name: Adidas NMD R1\n",
      "Price: 128\n",
      "About: New-wave classics, with a timeless vintage design: men’s NMD R1 gear is the ultimate go-anywhere shoe. Vibrant styles and soft cushioning will have you gliding through life, wherever it may take you.\n",
      "Category: shoes\n",
      "=======================================\n",
      "Name: Gucci Oversize T-shirt with Interlocking G\n",
      "Price: 580\n",
      "About: The now recognizable oversize Gucci T-shirt continues to evolve with each new collection, the Interlocking G print is influenced by an '80s design from the archives. Streetwear continues to be a defining feature of Gucci's collections and is often juxtaposed by tailored separates.\n",
      "Category: shirts\n",
      "=======================================\n",
      "Name: Nike Sportswear Club\n",
      "Price: 18.97\n",
      "About: The Nike Sportswear Club T-Shirt is made with our everyday cotton fabric and a classic fit for a familiar feel right out of the bag. An embroidered Futura logo on the chest provides a signature Nike look.\n",
      "Category: shirts\n",
      "=======================================\n",
      "Name: Spanx Flare Jeans, Vintage Indigo\n",
      "Price: 148\n",
      "About: These 70s inspired flare jeans are the perfect wear everywhere with anything style. Designed with premium stretch denim, high-rise coverage and hidden core shaping technology, this jean puts a new twist on a retro silhouette.\n",
      "Category: pants\n",
      "=======================================\n",
      "Name: Bonobos Premium Stretch Jeans\n",
      "Price: 69\n",
      "About: Resilient stretch denim made incredibly soft. Yes, jeans can be unbelievably comfortable.\n",
      "Category: pants\n"
     ]
    }
   ],
   "source": [
    "//Solution\n",
    "function logItem(item){\n",
    "    console.log('=======================================')\n",
    "    console.log(`Name: ${item.name}`)\n",
    "    console.log(`Price: ${item.price}`)\n",
    "    console.log(`About: ${item.desc}`)\n",
    "    console.log(`Category: ${item.category}`)\n",
    "};\n",
    "\n",
    "logItem(shopItems[0]);\n",
    "logItem(shopItems[1]);\n",
    "logItem(shopItems[2]);\n",
    "logItem(shopItems[3]);\n",
    "logItem(shopItems[4]);\n",
    "logItem(shopItems[5]);\n"
   ]
  },
  {
   "cell_type": "markdown",
   "id": "3e4e6fce",
   "metadata": {},
   "source": [
    "### Question #2"
   ]
  },
  {
   "cell_type": "markdown",
   "id": "97dba0b8",
   "metadata": {},
   "source": [
    "Write a function that parses through the below object and displays all of their\n",
    "favorite food dishes as shown:\n",
    "```\n",
    "pizza contains:\n",
    "Deep Dish\n",
    "South Side Thin Crust\n",
    "tacos contains:\n",
    "Anything not from Taco bell\n",
    "burgers contains:\n",
    "Portillos Burgers\n",
    "ice_cream contains:\n",
    "Chocolate\n",
    "Vanilla\n",
    "Oreo\n",
    "shakes contains:\n",
    "oberwise contains:\n",
    "Chocolate\n",
    "dunkin contains:\n",
    "Vanilla\n",
    "culvers contains:\n",
    "All of them\n",
    "mcDonalds contains:\n",
    "Sham-rock-shake\n",
    "cupids_candies contains:\n",
    "Chocolate Malt\n",
    "```\n",
    "<b>Note: </b> The solution should work on any object with values of strings, numbers, objects, and arrays not just this specific object\n",
    "\n",
    "<b> Hint </b> recursion and <a href=\"#typecheck\">checking types</a>"
   ]
  },
  {
   "cell_type": "code",
   "execution_count": 5,
   "id": "9a1a16ce",
   "metadata": {},
   "outputs": [],
   "source": [
    "var hwPerson = {\n",
    "    pizza:[\"Deep Dish\",\"South Side Thin Crust\"],\n",
    "    tacos:\"Anything not from Taco bell\",\n",
    "    burgers:\"Portillos Burgers\",\n",
    "    ice_cream:[\"Chocolate\",\"Vanilla\",\"Oreo\"],\n",
    "    shakes:[{\n",
    "        oberwise:\"Chocolate\",\n",
    "        dunkin:\"Vanilla\",\n",
    "        culvers:\"All of them\",\n",
    "        mcDonalds:\"Sham-rock-shake\",\n",
    "        cupids_candies:\"Chocolate Malt\"\n",
    "    }]\n",
    "}"
   ]
  },
  {
   "cell_type": "code",
   "execution_count": 7,
   "id": "c393dc13",
   "metadata": {},
   "outputs": [
    {
     "name": "stdout",
     "output_type": "stream",
     "text": [
      "pizza contains:\n",
      "[ 'Deep Dish', 'South Side Thin Crust' ]\n",
      "tacos contains:\n",
      "Anything not from Taco bell\n",
      "burgers contains:\n",
      "Portillos Burgers\n",
      "ice_cream contains:\n",
      "[ 'Chocolate', 'Vanilla', 'Oreo' ]\n",
      "shakes contains:\n",
      "[\n",
      "  {\n",
      "    oberwise: 'Chocolate',\n",
      "    dunkin: 'Vanilla',\n",
      "    culvers: 'All of them',\n",
      "    mcDonalds: 'Sham-rock-shake',\n",
      "    cupids_candies: 'Chocolate Malt'\n",
      "  }\n",
      "]\n"
     ]
    }
   ],
   "source": [
    "//Solution\n",
    "// for (let key in person2){\n",
    "//     console.log('key', key)\n",
    "//     console.log('value', person2[key])\n",
    "// }\n",
    "\n",
    "for (let key in hwPerson){\n",
    "    console.log(`${key} contains:`);\n",
    "    console.log(hwPerson[key])\n",
    "}\n",
    "\n",
    "\n",
    "\n",
    "\n",
    "\n",
    "\n",
    "\n",
    "\n",
    "\n",
    "\n",
    "\n",
    "\n",
    "\n",
    "\n",
    "\n",
    "\n",
    "\n",
    "\n",
    "\n",
    "\n"
   ]
  },
  {
   "cell_type": "markdown",
   "id": "fb913b65",
   "metadata": {},
   "source": [
    "### Question #3"
   ]
  },
  {
   "cell_type": "markdown",
   "id": "9c6b801b",
   "metadata": {},
   "source": [
    "\n",
    "Create a Promised based function that will check a string to determine if it's length is greater than 10.\n",
    "\n",
    "If the length is greater than 10 then resolve it and console log \"Big word\". \n",
    "\n",
    "If the length of the string is less than 10 then reject it and  console log \"Small String\""
   ]
  },
  {
   "cell_type": "code",
   "execution_count": 8,
   "id": "e392b881",
   "metadata": {},
   "outputs": [],
   "source": [
    "\n",
    "function stringLength(toCheck){\n",
    "    return new Promise( (resolve, reject)=> {\n",
    "        if (toCheck.length>10){\n",
    "            resolve('Big word')\n",
    "        }else{\n",
    "            reject('Small word')\n",
    "        }\n",
    "    } )\n",
    "}\n",
    "\n",
    "\n",
    "\n",
    "\n",
    "\n",
    "\n",
    "\n",
    "\n",
    "\n",
    "\n",
    "\n",
    "\n"
   ]
  },
  {
   "cell_type": "code",
   "execution_count": 10,
   "id": "8f998056",
   "metadata": {},
   "outputs": [
    {
     "name": "stdout",
     "output_type": "stream",
     "text": [
      "Promise { 'Big word' }\n"
     ]
    }
   ],
   "source": [
    "console.log(stringLength('retaliatory'))"
   ]
  },
  {
   "cell_type": "code",
   "execution_count": 11,
   "id": "794fe92b",
   "metadata": {},
   "outputs": [
    {
     "data": {
      "text/plain": [
       "Promise { <rejected> 'Small word' }"
      ]
     },
     "execution_count": 11,
     "metadata": {},
     "output_type": "execute_result"
    },
    {
     "name": "stderr",
     "output_type": "stream",
     "text": [
      "UnhandledPromiseRejection: This error originated either by throwing inside of an async function without a catch block, or by rejecting a promise which was not handled with .catch(). The promise rejected with the reason \"Small word\"."
     ]
    }
   ],
   "source": [
    "stringLength('small')"
   ]
  },
  {
   "cell_type": "markdown",
   "id": "9babd4ad",
   "metadata": {},
   "source": [
    "### Question #4"
   ]
  },
  {
   "cell_type": "markdown",
   "id": "03642f0c",
   "metadata": {},
   "source": [
    "Create a base class of GameMember and 2 children classes of Dealer, Player\n",
    "\n",
    "both dealer and player have:\n",
    "\n",
    "hand : array of 2 numbers (1-13) ex: [5, 12] which starts with 2 random numbers\n",
    "\n",
    "hit() : ability to add  a random number [1-13] to their hand\n",
    "\n",
    "When a Dealer trys to hit he can only hit if he has his hand adds up to less than a total of 17 (so 16 and under)\n",
    "\n",
    "When a Play hits they can hit as long as their total is under 21\n",
    "\n",
    "Use the randomNumber function provided below to gernerate a random number 1-12"
   ]
  },
  {
   "cell_type": "code",
   "execution_count": 12,
   "id": "9c3b6841",
   "metadata": {},
   "outputs": [
    {
     "data": {
      "text/plain": [
       "11"
      ]
     },
     "execution_count": 12,
     "metadata": {},
     "output_type": "execute_result"
    }
   ],
   "source": [
    "let getRandomNumber = () =>Math.floor(Math.random() * 13) + 1;\n",
    "getRandomNumber()"
   ]
  },
  {
   "cell_type": "code",
   "execution_count": 13,
   "id": "a8a862dc",
   "metadata": {},
   "outputs": [
    {
     "data": {
      "text/plain": [
       "9"
      ]
     },
     "execution_count": 13,
     "metadata": {},
     "output_type": "execute_result"
    }
   ],
   "source": [
    "// This will print a different random number\n",
    "getRandomNumber()"
   ]
  },
  {
   "cell_type": "code",
   "execution_count": 1,
   "id": "1f33d5c5",
   "metadata": {},
   "outputs": [],
   "source": [
    "//Solution\n",
    "class GameMember{\n",
    "    constructor(){\n",
    "        this.hand=[getRandomNumber(), getRandomNumber()]\n",
    "    }\n",
    "    hit(){\n",
    "        this.hand.push(getRandomNumber())\n",
    "    }\n",
    "}\n",
    "\n",
    "\n",
    "\n",
    "\n",
    "class Dealer extends GameMember{\n",
    "    constructor(){\n",
    "        super(hand)\n",
    "    }hit(){\n",
    "        let sum=0;\n",
    "        hand.forEach(card=>{sum+=card;})\n",
    "        if (sum<=16){hand.push(getRandomNumber())}\n",
    "    }\n",
    "}\n",
    "\n",
    "\n",
    "class Player extends GameMember{\n",
    "    constructor(){\n",
    "        super(hand)\n",
    "    }hit(){\n",
    "        let sum=0;\n",
    "        hand.forEach(card=>{sum+=card;})\n",
    "        if (sum<21){hand.push(getRandomNumber())}\n",
    "    }\n",
    "}\n"
   ]
  },
  {
   "cell_type": "code",
   "execution_count": 2,
   "id": "a8f15e27",
   "metadata": {},
   "outputs": [
    {
     "ename": "ReferenceError",
     "evalue": "hand is not defined",
     "output_type": "error",
     "traceback": [
      "evalmachine.<anonymous>:27",
      "        super(hand)",
      "              ^",
      "",
      "ReferenceError: hand is not defined",
      "    at new Player (evalmachine.<anonymous>:27:15)",
      "    at evalmachine.<anonymous>:1:8",
      "    at Script.runInThisContext (node:vm:129:12)",
      "    at Object.runInThisContext (node:vm:307:38)",
      "    at run ([eval]:1020:15)",
      "    at onRunRequest ([eval]:864:18)",
      "    at onMessage ([eval]:828:13)",
      "    at process.emit (node:events:513:28)",
      "    at emit (node:internal/child_process:937:14)",
      "    at process.processTicksAndRejections (node:internal/process/task_queues:83:21)"
     ]
    }
   ],
   "source": [
    "let me=new Player();\n",
    "let otherGuy=new Dealer();\n",
    "\n",
    "console.log(me.hand);\n",
    "console.log(otherGuy.hand);\n",
    "\n",
    "\n"
   ]
  },
  {
   "cell_type": "markdown",
   "id": "1b1300a1",
   "metadata": {},
   "source": [
    "### Question #5"
   ]
  },
  {
   "cell_type": "markdown",
   "id": "1bc58007",
   "metadata": {},
   "source": [
    "Complete 3 Codewars problems using JavaScript, start with ones you have already solved in python.  Paste a link here to the 3 questions you completed\n",
    "\n",
    "1:https://www.codewars.com/kata/57cc975ed542d3148f00015b/train/javascript\n",
    "\n",
    "2:https://www.codewars.com/kata/5ab6538b379d20ad880000ab/train/javascript\n",
    "\n",
    "3:https://www.codewars.com/kata/57a429e253ba3381850000fb/train/javascript"
   ]
  }
 ],
 "metadata": {
  "kernelspec": {
   "display_name": "JavaScript (Node.js)",
   "language": "javascript",
   "name": "javascript"
  },
  "language_info": {
   "file_extension": ".js",
   "mimetype": "application/javascript",
   "name": "javascript",
   "version": "18.16.0"
  }
 },
 "nbformat": 4,
 "nbformat_minor": 5
}
